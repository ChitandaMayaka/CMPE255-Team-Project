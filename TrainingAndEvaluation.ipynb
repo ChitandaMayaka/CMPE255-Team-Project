{
  "nbformat": 4,
  "nbformat_minor": 0,
  "metadata": {
    "colab": {
      "name": "TrainingAndEvaluation.ipynb",
      "provenance": [],
      "toc_visible": true,
      "mount_file_id": "1oH13stBlCn7nPJCwlHLVfDrzbI4IyW5N",
      "authorship_tag": "ABX9TyO5COT5IHOjQFQ0R66MS1mY",
      "include_colab_link": true
    },
    "kernelspec": {
      "name": "python3",
      "display_name": "Python 3"
    }
  },
  "cells": [
    {
      "cell_type": "markdown",
      "metadata": {
        "id": "view-in-github",
        "colab_type": "text"
      },
      "source": [
        "<a href=\"https://colab.research.google.com/github/ChitandaMayaka/CMPE255-Team-Project/blob/main/TrainingAndEvaluation.ipynb\" target=\"_parent\"><img src=\"https://colab.research.google.com/assets/colab-badge.svg\" alt=\"Open In Colab\"/></a>"
      ]
    },
    {
      "cell_type": "markdown",
      "metadata": {
        "id": "UsVzKpjwaWDQ"
      },
      "source": [
        "### load data"
      ]
    },
    {
      "cell_type": "code",
      "metadata": {
        "id": "zjFGRwUcKwXN"
      },
      "source": [
        "import numpy as np\n",
        "import pandas as pd\n",
        "import requests"
      ],
      "execution_count": 1,
      "outputs": []
    },
    {
      "cell_type": "code",
      "metadata": {
        "id": "bkJN_cZxapWj"
      },
      "source": [
        "# Load data\n",
        "def load_dataset(fn, url):\n",
        "    URL = url\n",
        "    filename = fn\n",
        "    request = requests.get(URL)\n",
        "    file = open(filename, 'wb')\n",
        "    file.write(request.content)"
      ],
      "execution_count": 2,
      "outputs": []
    },
    {
      "cell_type": "code",
      "metadata": {
        "id": "AHlGY7thbEWL"
      },
      "source": [
        "load_dataset('x_train.csv', 'https://raw.githubusercontent.com/ChitandaMayaka/CMPE255-Team-Project/main/dataset/x_train.csv')\n",
        "load_dataset('x_test.csv', 'https://raw.githubusercontent.com/ChitandaMayaka/CMPE255-Team-Project/main/dataset/x_test.csv')\n",
        "load_dataset('y_train.csv', 'https://raw.githubusercontent.com/ChitandaMayaka/CMPE255-Team-Project/main/dataset/y_train.csv')\n",
        "load_dataset('y_test.csv', 'https://raw.githubusercontent.com/ChitandaMayaka/CMPE255-Team-Project/main/dataset/y_test.csv')"
      ],
      "execution_count": 3,
      "outputs": []
    },
    {
      "cell_type": "code",
      "metadata": {
        "id": "UGpp_H5J9oXL"
      },
      "source": [
        "X_train = pd.read_csv('x_train.csv')\n",
        "X_test = pd.read_csv('x_test.csv')\n",
        "y_train = pd.read_csv('y_train.csv')\n",
        "y_test = pd.read_csv('y_test.csv')"
      ],
      "execution_count": 4,
      "outputs": []
    },
    {
      "cell_type": "markdown",
      "metadata": {
        "id": "yZMMNGR0cOFB"
      },
      "source": [
        "### RandomForest"
      ]
    },
    {
      "cell_type": "code",
      "metadata": {
        "id": "Jayiq1ARcUiE"
      },
      "source": [
        "from sklearn.ensemble import RandomForestRegressor\n",
        "from sklearn.model_selection import GridSearchCV, cross_val_score"
      ],
      "execution_count": null,
      "outputs": []
    },
    {
      "cell_type": "code",
      "metadata": {
        "id": "rHusnEe_WEal"
      },
      "source": [
        ""
      ],
      "execution_count": null,
      "outputs": []
    }
  ]
}