{
  "nbformat": 4,
  "nbformat_minor": 0,
  "metadata": {
    "colab": {
      "name": "TrainingAndEvaluation.ipynb",
      "provenance": [],
      "collapsed_sections": [],
      "toc_visible": true,
      "include_colab_link": true
    },
    "kernelspec": {
      "name": "python3",
      "display_name": "Python 3"
    }
  },
  "cells": [
    {
      "cell_type": "markdown",
      "metadata": {
        "id": "view-in-github",
        "colab_type": "text"
      },
      "source": [
        "<a href=\"https://colab.research.google.com/github/ChitandaMayaka/CMPE255-Team-Project/blob/main/TrainingAndEvaluation.ipynb\" target=\"_parent\"><img src=\"https://colab.research.google.com/assets/colab-badge.svg\" alt=\"Open In Colab\"/></a>"
      ]
    },
    {
      "cell_type": "markdown",
      "metadata": {
        "id": "LtYk3m12H5cx"
      },
      "source": [
        "# Model Training, Evaluation and Comparison\n",
        "1. Models:\n",
        "  - Linear Regression(baseline)\n",
        "  - Support Vector Machines\n",
        "  - Random Forest \n",
        "  - XGBoost\n",
        "  - LightGBM\n",
        "2. Evaluation: \n",
        "  RMSE for target variables(Price), for cross validation, we use default 5 fold(cv=5).\n",
        "3. Comparision:\n",
        "  Compare the training time, CV RMSE, Training RMSE and Test RMSE for different models\n"
      ]
    },
    {
      "cell_type": "markdown",
      "metadata": {
        "id": "UsVzKpjwaWDQ"
      },
      "source": [
        "## Load data"
      ]
    },
    {
      "cell_type": "code",
      "metadata": {
        "id": "zjFGRwUcKwXN"
      },
      "source": [
        "import numpy as np\n",
        "import pandas as pd\n",
        "import requests\n",
        "from time import time"
      ],
      "execution_count": null,
      "outputs": []
    },
    {
      "cell_type": "code",
      "metadata": {
        "id": "bkJN_cZxapWj"
      },
      "source": [
        "# Load data\n",
        "def load_dataset(fn, url):\n",
        "    URL = url\n",
        "    filename = fn\n",
        "    request = requests.get(URL)\n",
        "    file = open(filename, 'wb')\n",
        "    file.write(request.content)"
      ],
      "execution_count": null,
      "outputs": []
    },
    {
      "cell_type": "code",
      "metadata": {
        "id": "AHlGY7thbEWL"
      },
      "source": [
        "load_dataset('x_train.csv', 'https://raw.githubusercontent.com/ChitandaMayaka/CMPE255-Team-Project/main/dataset/x_train.csv')\n",
        "load_dataset('x_test.csv', 'https://raw.githubusercontent.com/ChitandaMayaka/CMPE255-Team-Project/main/dataset/x_test.csv')\n",
        "load_dataset('y_train.csv', 'https://raw.githubusercontent.com/ChitandaMayaka/CMPE255-Team-Project/main/dataset/y_train.csv')\n",
        "load_dataset('y_test.csv', 'https://raw.githubusercontent.com/ChitandaMayaka/CMPE255-Team-Project/main/dataset/y_test.csv')"
      ],
      "execution_count": null,
      "outputs": []
    },
    {
      "cell_type": "code",
      "metadata": {
        "id": "UGpp_H5J9oXL"
      },
      "source": [
        "X_train = pd.read_csv('x_train.csv')\n",
        "X_test = pd.read_csv('x_test.csv')\n",
        "y_train = pd.read_csv('y_train.csv')\n",
        "y_test = pd.read_csv('y_test.csv')"
      ],
      "execution_count": null,
      "outputs": []
    },
    {
      "cell_type": "code",
      "metadata": {
        "id": "PeuqsRqyGKOg"
      },
      "source": [
        "# import evaluation metrics and cross validation, grid search\n",
        "from sklearn.metrics import mean_squared_error, r2_score\n",
        "from sklearn.model_selection import cross_val_score, cross_validate, GridSearchCV, RandomizedSearchCV"
      ],
      "execution_count": 18,
      "outputs": []
    },
    {
      "cell_type": "code",
      "metadata": {
        "id": "e9BCPwFYsaFm"
      },
      "source": [
        "def getRMSE(y_true, y_pred):\n",
        "  return (mean_squared_error(y_true, y_pred))**0.5"
      ],
      "execution_count": null,
      "outputs": []
    },
    {
      "cell_type": "code",
      "metadata": {
        "id": "D9xEkvcgyu6f"
      },
      "source": [
        "# dictionary to store all the result from different models\n",
        "# result example: {\"Linear regression: {training_time, cv_rmse, train_rmse, test_rmse}\"}\n",
        "results = {}"
      ],
      "execution_count": null,
      "outputs": []
    },
    {
      "cell_type": "markdown",
      "metadata": {
        "id": "1l5a44H9GeAE"
      },
      "source": [
        "## Linear Regression"
      ]
    },
    {
      "cell_type": "code",
      "metadata": {
        "id": "8H_l-gQvGeAE"
      },
      "source": [
        "# use linear regression as a basic model for baseline\n",
        "from sklearn.linear_model import LinearRegression"
      ],
      "execution_count": null,
      "outputs": []
    },
    {
      "cell_type": "code",
      "metadata": {
        "id": "C1WYSGAbGhOj"
      },
      "source": [
        "linreg = LinearRegression()\n",
        "linreg_cv_rmse = -cross_val_score(linreg, X_train, y_train, scoring='neg_root_mean_squared_error').mean()\n",
        "start_t = time()\n",
        "linreg.fit(X_train, y_train)\n",
        "linreg_training_time = time() - start_t\n",
        "linreg_y_pred_train = linreg.predict(X_train)  \n",
        "linreg_y_pred_test = linreg.predict(X_test)\n",
        "linreg_rmse_train = getRMSE(y_train, linreg_y_pred_train)\n",
        "linreg_rmse_test = getRMSE(y_test, linreg_y_pred_test)\n",
        "linreg_r2_train = r2_score(y_train, linreg_y_pred_train)\n",
        "linreg_r2_test = r2_score(y_test, linreg_y_pred_test)\n",
        "linreg_result = {\"training_time\":linreg_training_time, \n",
        "                 \"cv_rmse\":linreg_cv_rmse, \n",
        "                 \"train_rmse\":linreg_rmse_train, \n",
        "                 \"test_rmse\":linreg_rmse_test,\n",
        "                 \"train_r2\":linreg_r2_train, \n",
        "                 \"test_r2\":linreg_r2_test,\n",
        "                 }\n",
        "results[\"Linear Regression\"] = linreg_result"
      ],
      "execution_count": null,
      "outputs": []
    },
    {
      "cell_type": "code",
      "metadata": {
        "colab": {
          "base_uri": "https://localhost:8080/"
        },
        "id": "bLLc3wDetASS",
        "outputId": "f3dc154f-8bb2-4f13-e079-47384f96f465"
      },
      "source": [
        "print(\"Linear Regression: {}\".format(linreg_result))"
      ],
      "execution_count": null,
      "outputs": [
        {
          "output_type": "stream",
          "text": [
            "Linear Regression: {'training_time': 0.02353811264038086, 'cv_rmse': 8783.593741764049, 'train_rmse': 8769.258643615587, 'test_rmse': 8908.23874588955, 'train_r2': 0.41518502942025926, 'test_r2': 0.3993815949713295}\n"
          ],
          "name": "stdout"
        }
      ]
    },
    {
      "cell_type": "markdown",
      "metadata": {
        "id": "wmXGB5JPxFMM"
      },
      "source": [
        "## Support Vector Machines"
      ]
    },
    {
      "cell_type": "code",
      "metadata": {
        "id": "AsvPDq4Axb8K"
      },
      "source": [
        "from sklearn.svm import SVR"
      ],
      "execution_count": null,
      "outputs": []
    },
    {
      "cell_type": "markdown",
      "metadata": {
        "id": "qsXk2-1Yis_Y"
      },
      "source": [
        "### Grid Search"
      ]
    },
    {
      "cell_type": "code",
      "metadata": {
        "id": "2EXSsQAjxb8K"
      },
      "source": [
        "svr_param_grid = {\n",
        "    'kernel' : ['poly'],\n",
        "    'C' : [10, 70],\n",
        "    # 'kernel' : ['linear', 'poly', 'rbf', 'sigmoid'],\n",
        "    # 'C' : [5, 10, 30, 70],\n",
        "    # 'gamma' : ['auto','scale'],\n",
        "    }"
      ],
      "execution_count": null,
      "outputs": []
    },
    {
      "cell_type": "code",
      "metadata": {
        "colab": {
          "base_uri": "https://localhost:8080/"
        },
        "id": "XlWrjZ93fDkg",
        "outputId": "bea7f994-5260-48ca-8c44-a7d8b88c79c2"
      },
      "source": [
        "svr_gs = GridSearchCV(SVR(), svr_param_grid, scoring='neg_root_mean_squared_error')\n",
        "svr_gs.fit(X_train, y_train.values.ravel())"
      ],
      "execution_count": null,
      "outputs": [
        {
          "output_type": "execute_result",
          "data": {
            "text/plain": [
              "GridSearchCV(cv=None, error_score=nan,\n",
              "             estimator=SVR(C=1.0, cache_size=200, coef0=0.0, degree=3,\n",
              "                           epsilon=0.1, gamma='scale', kernel='rbf',\n",
              "                           max_iter=-1, shrinking=True, tol=0.001,\n",
              "                           verbose=False),\n",
              "             iid='deprecated', n_jobs=None,\n",
              "             param_grid={'C': [10, 70], 'kernel': ['poly']},\n",
              "             pre_dispatch='2*n_jobs', refit=True, return_train_score=False,\n",
              "             scoring='neg_root_mean_squared_error', verbose=0)"
            ]
          },
          "metadata": {
            "tags": []
          },
          "execution_count": 18
        }
      ]
    },
    {
      "cell_type": "code",
      "metadata": {
        "colab": {
          "base_uri": "https://localhost:8080/"
        },
        "id": "AcxDfSasPYEt",
        "outputId": "7531d30e-0af3-40e3-af1a-683fa74ede55"
      },
      "source": [
        "svr_cv_rmse = -svr_gs.best_score_\n",
        "svr_best_params = svr_gs.best_params_\n",
        "print(\"CV RMSE:{}, Best prameters:{}\".format(svr_cv_rmse, svr_best_params))"
      ],
      "execution_count": null,
      "outputs": [
        {
          "output_type": "stream",
          "text": [
            "CV RMSE:7532.576659307827, Best prameters:{'C': 70, 'kernel': 'poly'}\n"
          ],
          "name": "stdout"
        }
      ]
    },
    {
      "cell_type": "markdown",
      "metadata": {
        "id": "4pv90vQEiwgI"
      },
      "source": [
        "### Best Parameters Model"
      ]
    },
    {
      "cell_type": "code",
      "metadata": {
        "id": "Zt4eHx8UQVxO"
      },
      "source": [
        "# train and test model with best parameters\n",
        "svr = SVR(**svr_best_params)\n",
        "start_t = time()\n",
        "svr.fit(X_train, y_train.values.ravel())\n",
        "svr_training_time = time() - start_t\n",
        "svr_y_pred_train = svr.predict(X_train)  \n",
        "svr_y_pred_test = svr.predict(X_test)\n",
        "svr_rmse_train = getRMSE(y_train, svr_y_pred_train)\n",
        "svr_rmse_test = getRMSE(y_test, svr_y_pred_test)\n",
        "svr_r2_train = r2_score(y_train, svr_y_pred_train)\n",
        "svr_r2_test = r2_score(y_test, svr_y_pred_test)\n",
        "svr_result = {\"training_time\":svr_training_time, \n",
        "                 \"cv_rmse\":svr_cv_rmse, \n",
        "                 \"train_rmse\":svr_rmse_train, \n",
        "                 \"test_rmse\":svr_rmse_test,\n",
        "                 \"train_r2\":svr_r2_train, \n",
        "                 \"test_r2\":svr_r2_test,\n",
        "                 }\n",
        "results[\"Support Vector Regression\"] = svr_result"
      ],
      "execution_count": null,
      "outputs": []
    },
    {
      "cell_type": "code",
      "metadata": {
        "colab": {
          "base_uri": "https://localhost:8080/"
        },
        "id": "kcnDgGEtszTw",
        "outputId": "5dbd8741-c024-462c-b82a-39e5d06ff8a9"
      },
      "source": [
        "print(\"Support Vector Regression: {}\".format(svr_result))"
      ],
      "execution_count": null,
      "outputs": [
        {
          "output_type": "stream",
          "text": [
            "Support Vector Regression: {'training_time': 246.25625371932983, 'cv_rmse': 7532.576659307827, 'train_rmse': 7485.888133912164, 'test_rmse': 7761.023758893805, 'train_r2': 0.5738334209721521, 'test_r2': 0.544117452437032}\n"
          ],
          "name": "stdout"
        }
      ]
    },
    {
      "cell_type": "markdown",
      "metadata": {
        "id": "yZMMNGR0cOFB"
      },
      "source": [
        "## RandomForest"
      ]
    },
    {
      "cell_type": "code",
      "metadata": {
        "id": "Jayiq1ARcUiE"
      },
      "source": [
        "from sklearn.ensemble import RandomForestRegressor"
      ],
      "execution_count": 13,
      "outputs": []
    },
    {
      "cell_type": "markdown",
      "metadata": {
        "id": "pQF45WDrd9U8"
      },
      "source": [
        "### Grid Search"
      ]
    },
    {
      "cell_type": "code",
      "metadata": {
        "id": "rHusnEe_WEal"
      },
      "source": [
        "rf_params = {'n_estimators': [100, 300, 500, 700], \n",
        "             'max_depth': [4, 5, 6, 7], \n",
        "             'bootstrap': [True, False], \n",
        "             'max_samples': [0.7, 0.8, 0.9]}"
      ],
      "execution_count": null,
      "outputs": []
    },
    {
      "cell_type": "code",
      "metadata": {
        "id": "2wTlIjrWp4C8",
        "colab": {
          "base_uri": "https://localhost:8080/"
        },
        "outputId": "2595fdef-2b9b-476c-e538-baebb9bd719e"
      },
      "source": [
        "rf_rs = RandomizedSearchCV(RandomForestRegressor(), rf_params, scoring='neg_root_mean_squared_error')\n",
        "rf_rs.fit(X_train, y_train.values.ravel())"
      ],
      "execution_count": 12,
      "outputs": [
        {
          "output_type": "execute_result",
          "data": {
            "text/plain": [
              "RandomizedSearchCV(cv=None, error_score=nan,\n",
              "                   estimator=RandomForestRegressor(bootstrap=True,\n",
              "                                                   ccp_alpha=0.0,\n",
              "                                                   criterion='mse',\n",
              "                                                   max_depth=None,\n",
              "                                                   max_features='auto',\n",
              "                                                   max_leaf_nodes=None,\n",
              "                                                   max_samples=None,\n",
              "                                                   min_impurity_decrease=0.0,\n",
              "                                                   min_impurity_split=None,\n",
              "                                                   min_samples_leaf=1,\n",
              "                                                   min_samples_split=2,\n",
              "                                                   min_weight_fraction_leaf=0.0,\n",
              "                                                   n_estimators=100,\n",
              "                                                   n_jobs=None, oob_score=False,\n",
              "                                                   random_state=None, verbose=0,\n",
              "                                                   warm_start=False),\n",
              "                   iid='deprecated', n_iter=10, n_jobs=None,\n",
              "                   param_distributions={'bootstrap': [True, False],\n",
              "                                        'max_depth': [4, 5, 6, 7],\n",
              "                                        'max_samples': [0.7, 0.8, 0.9],\n",
              "                                        'n_estimators': [50, 100, 300, 500,\n",
              "                                                         700]},\n",
              "                   pre_dispatch='2*n_jobs', random_state=None, refit=True,\n",
              "                   return_train_score=False,\n",
              "                   scoring='neg_root_mean_squared_error', verbose=0)"
            ]
          },
          "metadata": {
            "tags": []
          },
          "execution_count": 12
        }
      ]
    },
    {
      "cell_type": "code",
      "metadata": {
        "id": "fr37coJJvZWX",
        "colab": {
          "base_uri": "https://localhost:8080/"
        },
        "outputId": "d2547bb1-5982-44a3-f861-4f7ac72cd408"
      },
      "source": [
        "rf_rs_rmse = -rf_rs.best_score_\n",
        "rf_best_params = rf_rs.best_params_\n",
        "print(\"RS RMSE:{}, Best prameters:{}\".format(rf_rs_rmse, rf_best_params))"
      ],
      "execution_count": 15,
      "outputs": [
        {
          "output_type": "stream",
          "text": [
            "RS RMSE:6413.147594926005, Best prameters:{'n_estimators': 100, 'max_samples': 0.8, 'max_depth': 7, 'bootstrap': True}\n"
          ],
          "name": "stdout"
        }
      ]
    },
    {
      "cell_type": "markdown",
      "metadata": {
        "id": "IbJFrEP83rQN"
      },
      "source": [
        "### Best parameters model"
      ]
    },
    {
      "cell_type": "code",
      "metadata": {
        "id": "uvxOL1h_3nDd"
      },
      "source": [
        "# train and test model with best parameters\n",
        "rf_reg = RandomForestRegressor(**rf_best_params)\n",
        "rf_cv_rmse = -cross_val_score(rf_reg, X_train, y_train.values.ravel(), scoring='neg_root_mean_squared_error').mean()\n",
        "start_time = time()\n",
        "rf_reg.fit(X_train, y_train.values.ravel())\n",
        "rf_training_time = time() - start_time\n",
        "rf_y_pred_train = rf_reg.predict(X_train)  \n",
        "rf_y_pred_test = rf_reg.predict(X_test)\n",
        "rf_rmse_train = getRMSE(y_train, rf_y_pred_train)\n",
        "rf_rmse_test = getRMSE(y_test, rf_y_pred_test)\n",
        "rf_r2_train = r2_score(y_train, rf_y_pred_train)\n",
        "rf_r2_test = r2_score(y_test, rf_y_pred_test)\n",
        "rf_result = {\"training_time\":rf_training_time, \n",
        "                 \"cv_rmse\":rf_cv_rmse, \n",
        "                 \"train_rmse\":rf_rmse_train, \n",
        "                 \"test_rmse\":rf_rmse_test,\n",
        "                 \"train_r2\":rf_r2_train, \n",
        "                 \"test_r2\":rf_r2_test,\n",
        "                 }\n",
        "results[\"RandomForest Regression\"] = rf_result"
      ],
      "execution_count": 19,
      "outputs": []
    },
    {
      "cell_type": "code",
      "metadata": {
        "colab": {
          "base_uri": "https://localhost:8080/"
        },
        "id": "3N74e4tR617M",
        "outputId": "6c8b1647-96b2-4bdb-9ecb-a0eb58632c91"
      },
      "source": [
        "print(\"RandomForest Regression: {}\".format(rf_result))"
      ],
      "execution_count": 20,
      "outputs": [
        {
          "output_type": "stream",
          "text": [
            "RandomForest Regression: {'training_time': 10.284673690795898, 'cv_rmse': 6403.91323953507, 'train_rmse': 6173.5237313886155, 'test_rmse': 6906.983298038885, 'train_r2': 0.7101595692916947, 'test_r2': 0.6389297120664961}\n"
          ],
          "name": "stdout"
        }
      ]
    }
  ]
}