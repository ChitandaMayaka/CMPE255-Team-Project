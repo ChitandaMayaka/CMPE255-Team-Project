{
  "nbformat": 4,
  "nbformat_minor": 0,
  "metadata": {
    "colab": {
      "name": "TrainingAndEvaluation.ipynb",
      "provenance": [],
      "collapsed_sections": [
        "UsVzKpjwaWDQ",
        "pQF45WDrd9U8",
        "zRuICfE3ofR7",
        "9M8mDFEtodPx",
        "MDOZ7innLiAM",
        "oRGTATQmoGEH",
        "c_gtUZxvRXrQ",
        "2PHSPQMeXJ_r"
      ],
      "toc_visible": true,
      "include_colab_link": true
    },
    "kernelspec": {
      "name": "python3",
      "display_name": "Python 3"
    }
  },
  "cells": [
    {
      "cell_type": "markdown",
      "metadata": {
        "id": "view-in-github",
        "colab_type": "text"
      },
      "source": [
        "<a href=\"https://colab.research.google.com/github/ChitandaMayaka/CMPE255-Team-Project/blob/main/TrainingAndEvaluation.ipynb\" target=\"_parent\"><img src=\"https://colab.research.google.com/assets/colab-badge.svg\" alt=\"Open In Colab\"/></a>"
      ]
    },
    {
      "cell_type": "markdown",
      "metadata": {
        "id": "LtYk3m12H5cx"
      },
      "source": [
        "# Model Training, Evaluation and Comparison\n",
        "1. Models:\n",
        "  - Linear Regression(baseline)\n",
        "  - Support Vector Machines\n",
        "  - Random Forest \n",
        "  - XGBoost\n",
        "  - LightGBM\n",
        "2. Evaluation: \n",
        "  RMSE for target variables(Price), for cross validation, we use default 5 fold(cv=5).\n",
        "3. Comparision:\n",
        "  Compare the training time, CV RMSE, Training RMSE and Test RMSE for different models\n"
      ]
    },
    {
      "cell_type": "markdown",
      "metadata": {
        "id": "UsVzKpjwaWDQ"
      },
      "source": [
        "## Load data"
      ]
    },
    {
      "cell_type": "code",
      "metadata": {
        "id": "zjFGRwUcKwXN"
      },
      "source": [
        "import numpy as np\n",
        "import pandas as pd\n",
        "import requests\n",
        "from time import time"
      ],
      "execution_count": null,
      "outputs": []
    },
    {
      "cell_type": "code",
      "metadata": {
        "id": "bkJN_cZxapWj"
      },
      "source": [
        "# Load data\n",
        "def load_dataset(fn, url):\n",
        "    URL = url\n",
        "    filename = fn\n",
        "    request = requests.get(URL)\n",
        "    file = open(filename, 'wb')\n",
        "    file.write(request.content)"
      ],
      "execution_count": null,
      "outputs": []
    },
    {
      "cell_type": "code",
      "metadata": {
        "id": "AHlGY7thbEWL"
      },
      "source": [
        "load_dataset('x_train.csv', 'https://raw.githubusercontent.com/ChitandaMayaka/CMPE255-Team-Project/main/dataset/x_train.csv')\n",
        "load_dataset('x_test.csv', 'https://raw.githubusercontent.com/ChitandaMayaka/CMPE255-Team-Project/main/dataset/x_test.csv')\n",
        "load_dataset('y_train.csv', 'https://raw.githubusercontent.com/ChitandaMayaka/CMPE255-Team-Project/main/dataset/y_train.csv')\n",
        "load_dataset('y_test.csv', 'https://raw.githubusercontent.com/ChitandaMayaka/CMPE255-Team-Project/main/dataset/y_test.csv')"
      ],
      "execution_count": null,
      "outputs": []
    },
    {
      "cell_type": "code",
      "metadata": {
        "id": "UGpp_H5J9oXL"
      },
      "source": [
        "X_train = pd.read_csv('x_train.csv')\n",
        "X_test = pd.read_csv('x_test.csv')\n",
        "y_train = pd.read_csv('y_train.csv')\n",
        "y_test = pd.read_csv('y_test.csv')"
      ],
      "execution_count": null,
      "outputs": []
    },
    {
      "cell_type": "code",
      "metadata": {
        "id": "PeuqsRqyGKOg"
      },
      "source": [
        "# import evaluation metrics and cross validation, grid search\n",
        "from sklearn.metrics import mean_squared_error, r2_score\n",
        "from sklearn.model_selection import cross_val_score, cross_validate, GridSearchCV, RandomizedSearchCV"
      ],
      "execution_count": null,
      "outputs": []
    },
    {
      "cell_type": "code",
      "metadata": {
        "id": "e9BCPwFYsaFm"
      },
      "source": [
        "def getRMSE(y_true, y_pred):\n",
        "  return (mean_squared_error(y_true, y_pred))**0.5"
      ],
      "execution_count": null,
      "outputs": []
    },
    {
      "cell_type": "code",
      "metadata": {
        "id": "D9xEkvcgyu6f"
      },
      "source": [
        "# dictionary to store all the result from different models\n",
        "# result example: {\"Linear regression: {training_time, cv_rmse, train_rmse, test_rmse}\"}\n",
        "results = {}"
      ],
      "execution_count": null,
      "outputs": []
    },
    {
      "cell_type": "markdown",
      "metadata": {
        "id": "1l5a44H9GeAE"
      },
      "source": [
        "## Linear Regression(Baseline)"
      ]
    },
    {
      "cell_type": "code",
      "metadata": {
        "id": "8H_l-gQvGeAE"
      },
      "source": [
        "# use linear regression as a basic model for baseline\n",
        "from sklearn.linear_model import LinearRegression"
      ],
      "execution_count": null,
      "outputs": []
    },
    {
      "cell_type": "code",
      "metadata": {
        "id": "C1WYSGAbGhOj"
      },
      "source": [
        "linreg = LinearRegression()\n",
        "linreg_cv_rmse = -cross_val_score(linreg, X_train, y_train, scoring='neg_root_mean_squared_error').mean()\n",
        "start_t = time()\n",
        "linreg.fit(X_train, y_train)\n",
        "linreg_training_time = time() - start_t\n",
        "linreg_y_pred_train = linreg.predict(X_train)  \n",
        "linreg_y_pred_test = linreg.predict(X_test)\n",
        "linreg_rmse_train = getRMSE(y_train, linreg_y_pred_train)\n",
        "linreg_rmse_test = getRMSE(y_test, linreg_y_pred_test)\n",
        "linreg_r2_train = r2_score(y_train, linreg_y_pred_train)\n",
        "linreg_r2_test = r2_score(y_test, linreg_y_pred_test)\n",
        "linreg_result = {\"training_time\":linreg_training_time, \n",
        "                 \"cv_rmse\":linreg_cv_rmse, \n",
        "                 \"train_rmse\":linreg_rmse_train, \n",
        "                 \"test_rmse\":linreg_rmse_test,\n",
        "                 \"train_r2\":linreg_r2_train, \n",
        "                 \"test_r2\":linreg_r2_test,\n",
        "                 }\n",
        "results[\"LinearReg\"] = linreg_result"
      ],
      "execution_count": null,
      "outputs": []
    },
    {
      "cell_type": "code",
      "metadata": {
        "colab": {
          "base_uri": "https://localhost:8080/"
        },
        "id": "bLLc3wDetASS",
        "outputId": "c34a3520-abeb-4669-b22e-13122f9edee4"
      },
      "source": [
        "print(\"Linear Regression: {}\".format(linreg_result))"
      ],
      "execution_count": null,
      "outputs": [
        {
          "output_type": "stream",
          "text": [
            "Linear Regression: {'training_time': 0.02729511260986328, 'cv_rmse': 8783.593741764049, 'train_rmse': 8769.258643615587, 'test_rmse': 8908.23874588955, 'train_r2': 0.41518502942025926, 'test_r2': 0.3993815949713295}\n"
          ],
          "name": "stdout"
        }
      ]
    },
    {
      "cell_type": "markdown",
      "metadata": {
        "id": "wmXGB5JPxFMM"
      },
      "source": [
        "## Support Vector Machines"
      ]
    },
    {
      "cell_type": "code",
      "metadata": {
        "id": "AsvPDq4Axb8K"
      },
      "source": [
        "from sklearn.svm import SVR"
      ],
      "execution_count": null,
      "outputs": []
    },
    {
      "cell_type": "markdown",
      "metadata": {
        "id": "qsXk2-1Yis_Y"
      },
      "source": [
        "### Hyperparameter Search"
      ]
    },
    {
      "cell_type": "code",
      "metadata": {
        "id": "2EXSsQAjxb8K"
      },
      "source": [
        "svr_param_grid = {\n",
        "    'kernel' : ['poly'],\n",
        "    'C' : [100],\n",
        "    'gamma' : ['scale'],\n",
        "    # 'kernel' : ['linear', 'poly', 'rbf', 'sigmoid'],\n",
        "    # 'C' : [5, 10, 30, 70, 100],\n",
        "    # 'gamma' : ['auto','scale'],\n",
        "    # Parameters for gird search are as above: \n",
        "    # It takes about 6 hours to finish this grid search\n",
        "    # to save time running this notebook for review only keep the best parameters combinations here\n",
        "    }"
      ],
      "execution_count": null,
      "outputs": []
    },
    {
      "cell_type": "code",
      "metadata": {
        "id": "XlWrjZ93fDkg",
        "colab": {
          "base_uri": "https://localhost:8080/"
        },
        "outputId": "5e1e0741-6956-4da3-a9cd-9e789163f624"
      },
      "source": [
        "svr_gs = GridSearchCV(SVR(), svr_param_grid, scoring='neg_root_mean_squared_error')\n",
        "svr_gs.fit(X_train, y_train.values.ravel())"
      ],
      "execution_count": null,
      "outputs": [
        {
          "output_type": "execute_result",
          "data": {
            "text/plain": [
              "GridSearchCV(cv=None, error_score=nan,\n",
              "             estimator=SVR(C=1.0, cache_size=200, coef0=0.0, degree=3,\n",
              "                           epsilon=0.1, gamma='scale', kernel='rbf',\n",
              "                           max_iter=-1, shrinking=True, tol=0.001,\n",
              "                           verbose=False),\n",
              "             iid='deprecated', n_jobs=None,\n",
              "             param_grid={'C': [100], 'gamma': ['scale'], 'kernel': ['poly']},\n",
              "             pre_dispatch='2*n_jobs', refit=True, return_train_score=False,\n",
              "             scoring='neg_root_mean_squared_error', verbose=0)"
            ]
          },
          "metadata": {
            "tags": []
          },
          "execution_count": 181
        }
      ]
    },
    {
      "cell_type": "code",
      "metadata": {
        "colab": {
          "base_uri": "https://localhost:8080/"
        },
        "id": "AcxDfSasPYEt",
        "outputId": "acc57ea9-c902-4b4b-cc5e-8f2dcfdcdec9"
      },
      "source": [
        "svr_cv_rmse = -svr_gs.best_score_\n",
        "svr_best_params = svr_gs.best_params_\n",
        "print(\"CV RMSE:{}, Best prameters:{}\".format(svr_cv_rmse, svr_best_params))"
      ],
      "execution_count": null,
      "outputs": [
        {
          "output_type": "stream",
          "text": [
            "CV RMSE:7467.893744608108, Best prameters:{'C': 100, 'gamma': 'scale', 'kernel': 'poly'}\n"
          ],
          "name": "stdout"
        }
      ]
    },
    {
      "cell_type": "markdown",
      "metadata": {
        "id": "4pv90vQEiwgI"
      },
      "source": [
        "### Best Parameters Model"
      ]
    },
    {
      "cell_type": "code",
      "metadata": {
        "id": "Zt4eHx8UQVxO"
      },
      "source": [
        "# train and test model with best parameters\n",
        "svr_best_params = {'C': 100, 'gamma': 'scale', 'kernel': 'poly'}\n",
        "svr = SVR(**svr_best_params)\n",
        "svr_cv_rmse = -cross_val_score(svr, X_train, y_train.values.ravel(), scoring='neg_root_mean_squared_error').mean()\n",
        "start_t = time()\n",
        "svr.fit(X_train, y_train.values.ravel())\n",
        "svr_training_time = time() - start_t\n",
        "svr_y_pred_train = svr.predict(X_train)  \n",
        "svr_y_pred_test = svr.predict(X_test)\n",
        "svr_rmse_train = getRMSE(y_train, svr_y_pred_train)\n",
        "svr_rmse_test = getRMSE(y_test, svr_y_pred_test)\n",
        "svr_r2_train = r2_score(y_train, svr_y_pred_train)\n",
        "svr_r2_test = r2_score(y_test, svr_y_pred_test)\n",
        "svr_result = {\"training_time\":svr_training_time, \n",
        "                 \"cv_rmse\":svr_cv_rmse, \n",
        "                 \"train_rmse\":svr_rmse_train, \n",
        "                 \"test_rmse\":svr_rmse_test,\n",
        "                 \"train_r2\":svr_r2_train, \n",
        "                 \"test_r2\":svr_r2_test,\n",
        "                 }\n",
        "results[\"SVR\"] = svr_result"
      ],
      "execution_count": null,
      "outputs": []
    },
    {
      "cell_type": "code",
      "metadata": {
        "id": "kcnDgGEtszTw",
        "colab": {
          "base_uri": "https://localhost:8080/"
        },
        "outputId": "0c0cc6d6-adf8-4dca-fe2e-3e7c31da2b5e"
      },
      "source": [
        "print(\"Support Vector Regression: {}\".format(svr_result))"
      ],
      "execution_count": null,
      "outputs": [
        {
          "output_type": "stream",
          "text": [
            "Support Vector Regression: {'training_time': 230.37623810768127, 'cv_rmse': 7467.893744608108, 'train_rmse': 7429.521080679628, 'test_rmse': 7707.180509009851, 'train_r2': 0.5802271352825319, 'test_r2': 0.550421015535743}\n"
          ],
          "name": "stdout"
        }
      ]
    },
    {
      "cell_type": "markdown",
      "metadata": {
        "id": "yZMMNGR0cOFB"
      },
      "source": [
        "## RandomForest"
      ]
    },
    {
      "cell_type": "code",
      "metadata": {
        "id": "Jayiq1ARcUiE"
      },
      "source": [
        "from sklearn.ensemble import RandomForestRegressor"
      ],
      "execution_count": null,
      "outputs": []
    },
    {
      "cell_type": "markdown",
      "metadata": {
        "id": "pQF45WDrd9U8"
      },
      "source": [
        "### Hyperparameter Search"
      ]
    },
    {
      "cell_type": "code",
      "metadata": {
        "id": "rHusnEe_WEal"
      },
      "source": [
        "'''rf_params = {'n_estimators': [100, 300, 500, 700], \n",
        "             'max_depth': [4, 5, 6, 7], \n",
        "             'bootstrap': [True, False], \n",
        "             'max_samples': [0.7, 0.8, 0.9]}'''"
      ],
      "execution_count": null,
      "outputs": []
    },
    {
      "cell_type": "code",
      "metadata": {
        "id": "2wTlIjrWp4C8",
        "colab": {
          "base_uri": "https://localhost:8080/"
        },
        "outputId": "92c4a05f-6e05-452f-a6b3-70e8dd489a63"
      },
      "source": [
        "'''rf_rs = RandomizedSearchCV(RandomForestRegressor(), rf_params, scoring='neg_root_mean_squared_error')\n",
        "rf_rs.fit(X_train, y_train.values.ravel())'''"
      ],
      "execution_count": null,
      "outputs": [
        {
          "output_type": "execute_result",
          "data": {
            "text/plain": [
              "RandomizedSearchCV(cv=None, error_score=nan,\n",
              "                   estimator=RandomForestRegressor(bootstrap=True,\n",
              "                                                   ccp_alpha=0.0,\n",
              "                                                   criterion='mse',\n",
              "                                                   max_depth=None,\n",
              "                                                   max_features='auto',\n",
              "                                                   max_leaf_nodes=None,\n",
              "                                                   max_samples=None,\n",
              "                                                   min_impurity_decrease=0.0,\n",
              "                                                   min_impurity_split=None,\n",
              "                                                   min_samples_leaf=1,\n",
              "                                                   min_samples_split=2,\n",
              "                                                   min_weight_fraction_leaf=0.0,\n",
              "                                                   n_estimators=100,\n",
              "                                                   n_jobs=None, oob_score=False,\n",
              "                                                   random_state=None, verbose=0,\n",
              "                                                   warm_start=False),\n",
              "                   iid='deprecated', n_iter=10, n_jobs=None,\n",
              "                   param_distributions={'bootstrap': [True, False],\n",
              "                                        'max_depth': [4, 5, 6, 7],\n",
              "                                        'max_samples': [0.7, 0.8, 0.9],\n",
              "                                        'n_estimators': [100, 300, 500, 700]},\n",
              "                   pre_dispatch='2*n_jobs', random_state=None, refit=True,\n",
              "                   return_train_score=False,\n",
              "                   scoring='neg_root_mean_squared_error', verbose=0)"
            ]
          },
          "metadata": {
            "tags": []
          },
          "execution_count": 21
        }
      ]
    },
    {
      "cell_type": "code",
      "metadata": {
        "id": "fr37coJJvZWX",
        "colab": {
          "base_uri": "https://localhost:8080/"
        },
        "outputId": "b0ff4691-1a57-4ab2-b85f-8684f4546821"
      },
      "source": [
        "'''rf_rs_rmse = -rf_rs.best_score_\n",
        "rf_best_params = rf_rs.best_params_\n",
        "print(\"RS RMSE:{}, Best prameters:{}\".format(rf_rs_rmse, rf_best_params))'''"
      ],
      "execution_count": null,
      "outputs": [
        {
          "output_type": "stream",
          "text": [
            "RS RMSE:6685.154842398678, Best prameters:{'n_estimators': 700, 'max_samples': 0.8, 'max_depth': 6, 'bootstrap': True}\n"
          ],
          "name": "stdout"
        }
      ]
    },
    {
      "cell_type": "markdown",
      "metadata": {
        "id": "IbJFrEP83rQN"
      },
      "source": [
        "### Best parameters model"
      ]
    },
    {
      "cell_type": "code",
      "metadata": {
        "id": "uvxOL1h_3nDd"
      },
      "source": [
        "# train and test model with best parameters\n",
        "rf_best_params = {'n_estimators': 700, 'max_samples': 0.8, 'max_depth': 6, 'bootstrap': True}\n",
        "rf_reg = RandomForestRegressor(**rf_best_params)\n",
        "rf_cv_rmse = -cross_val_score(rf_reg, X_train, y_train.values.ravel(), scoring='neg_root_mean_squared_error').mean()\n",
        "start_time = time()\n",
        "rf_reg.fit(X_train, y_train.values.ravel())\n",
        "rf_training_time = time() - start_time\n",
        "rf_y_pred_train = rf_reg.predict(X_train)  \n",
        "rf_y_pred_test = rf_reg.predict(X_test)\n",
        "rf_rmse_train = getRMSE(y_train, rf_y_pred_train)\n",
        "rf_rmse_test = getRMSE(y_test, rf_y_pred_test)\n",
        "rf_r2_train = r2_score(y_train, rf_y_pred_train)\n",
        "rf_r2_test = r2_score(y_test, rf_y_pred_test)\n",
        "rf_result = {\"training_time\":rf_training_time, \n",
        "                 \"cv_rmse\":rf_cv_rmse, \n",
        "                 \"train_rmse\":rf_rmse_train, \n",
        "                 \"test_rmse\":rf_rmse_test,\n",
        "                 \"train_r2\":rf_r2_train, \n",
        "                 \"test_r2\":rf_r2_test,\n",
        "                 }\n",
        "results[\"RandomForest\"] = rf_result"
      ],
      "execution_count": null,
      "outputs": []
    },
    {
      "cell_type": "code",
      "metadata": {
        "colab": {
          "base_uri": "https://localhost:8080/"
        },
        "id": "3N74e4tR617M",
        "outputId": "9073e5ee-0742-40bc-a7e2-30270ccac2df"
      },
      "source": [
        "print(\"RandomForest Regression: {}\".format(rf_result))"
      ],
      "execution_count": null,
      "outputs": [
        {
          "output_type": "stream",
          "text": [
            "RandomForest Regression: {'training_time': 57.13866472244263, 'cv_rmse': 6687.823770456083, 'train_rmse': 6561.330977071405, 'test_rmse': 7140.467409394849, 'train_r2': 0.6726015538595189, 'test_r2': 0.6141058248436999}\n"
          ],
          "name": "stdout"
        }
      ]
    },
    {
      "cell_type": "markdown",
      "metadata": {
        "id": "ZHIJMG6e9c5B"
      },
      "source": [
        "## XGBoost"
      ]
    },
    {
      "cell_type": "code",
      "metadata": {
        "id": "svjebtfL9l-N"
      },
      "source": [
        "import xgboost as xgb\n",
        "import sklearn as sk"
      ],
      "execution_count": null,
      "outputs": []
    },
    {
      "cell_type": "code",
      "metadata": {
        "id": "UV9uEdbEDo2o"
      },
      "source": [
        "dtrain = xgb.DMatrix(X_train, label=y_train)"
      ],
      "execution_count": null,
      "outputs": []
    },
    {
      "cell_type": "code",
      "metadata": {
        "id": "prZ7mwT-EQxj"
      },
      "source": [
        "dtest = xgb.DMatrix(X_test, label=y_test)"
      ],
      "execution_count": null,
      "outputs": []
    },
    {
      "cell_type": "markdown",
      "metadata": {
        "id": "zRuICfE3ofR7"
      },
      "source": [
        "### Model before tuning"
      ]
    },
    {
      "cell_type": "code",
      "metadata": {
        "colab": {
          "base_uri": "https://localhost:8080/"
        },
        "id": "Qn5e-CiaWUGb",
        "outputId": "faf87a95-3061-4c32-8116-94e949d975bc"
      },
      "source": [
        "param = {'max_depth':2, 'eta':1, 'silent':0, 'objective':'reg:linear' }\n",
        "num_round = 2\n",
        "\n",
        "bst_start_time = time()\n",
        "bst = xgb.train(param, dtrain, num_round)\n",
        "bst_training_time = time() - bst_start_time\n",
        "\n",
        "train_preds = bst.predict(dtrain)\n",
        "train_preds"
      ],
      "execution_count": null,
      "outputs": [
        {
          "output_type": "stream",
          "text": [
            "[12:52:03] WARNING: /workspace/src/objective/regression_obj.cu:152: reg:linear is now deprecated in favor of reg:squarederror.\n"
          ],
          "name": "stdout"
        },
        {
          "output_type": "execute_result",
          "data": {
            "text/plain": [
              "array([ 5452.134, 17377.738,  9775.979, ...,  9775.979, 32760.48 ,\n",
              "        9775.979], dtype=float32)"
            ]
          },
          "metadata": {
            "tags": []
          },
          "execution_count": 29
        }
      ]
    },
    {
      "cell_type": "code",
      "metadata": {
        "id": "4IFH9e8UXhlt"
      },
      "source": [
        "test_preds = bst.predict(dtest)"
      ],
      "execution_count": null,
      "outputs": []
    },
    {
      "cell_type": "code",
      "metadata": {
        "id": "F84KcfWJXrLm"
      },
      "source": [
        "bst_rmse_train = getRMSE(y_train, train_preds)\n",
        "bst_rmse_test = getRMSE(y_test, test_preds)\n",
        "bst_r2_train = r2_score(y_train, train_preds)\n",
        "bst_r2_test = r2_score(y_test, test_preds)\n",
        "bst_result = {\"training_time\":bst_training_time, \n",
        "                 \"train_rmse\":bst_rmse_train, \n",
        "                 \"test_rmse\":bst_rmse_test,\n",
        "                 \"train_r2\":bst_r2_train, \n",
        "                 \"test_r2\":bst_r2_test,\n",
        "                 }"
      ],
      "execution_count": null,
      "outputs": []
    },
    {
      "cell_type": "code",
      "metadata": {
        "colab": {
          "base_uri": "https://localhost:8080/"
        },
        "id": "uXstek_QbyCc",
        "outputId": "107de597-e954-47d1-d5e7-76c32039b968"
      },
      "source": [
        "print(\"XGBoost: {}\".format(bst_result))"
      ],
      "execution_count": null,
      "outputs": [
        {
          "output_type": "stream",
          "text": [
            "XGBoost: {'training_time': 0.06515312194824219, 'train_rmse': 7960.619037084481, 'test_rmse': 8251.364176720701, 'train_r2': 0.5180672897358982, 'test_r2': 0.48469251451263273}\n"
          ],
          "name": "stdout"
        }
      ]
    },
    {
      "cell_type": "markdown",
      "metadata": {
        "id": "9M8mDFEtodPx"
      },
      "source": [
        "### Hyperparameter Search"
      ]
    },
    {
      "cell_type": "code",
      "metadata": {
        "colab": {
          "base_uri": "https://localhost:8080/"
        },
        "id": "u_kEdaWJcH4b",
        "outputId": "9c50a021-6ea9-4068-fcf5-1b10d653f243"
      },
      "source": [
        "cv_params = {'n_estimators': np.linspace(100, 1000, 10, dtype=int)}\n",
        "xgbr = xgb.XGBRegressor(**param)\n",
        "gs = GridSearchCV(xgbr, cv_params, verbose=2, refit=True, cv=5, n_jobs=-1)\n",
        "gs.fit(X_train, y_train)  \n",
        "\n",
        "print(\"best value：:\", gs.best_params_)\n",
        "print(\"best score:\", gs.best_score_)"
      ],
      "execution_count": null,
      "outputs": [
        {
          "output_type": "stream",
          "text": [
            "Fitting 5 folds for each of 10 candidates, totalling 50 fits\n"
          ],
          "name": "stdout"
        },
        {
          "output_type": "stream",
          "text": [
            "[Parallel(n_jobs=-1)]: Using backend LokyBackend with 2 concurrent workers.\n",
            "[Parallel(n_jobs=-1)]: Done  37 tasks      | elapsed:  4.6min\n",
            "[Parallel(n_jobs=-1)]: Done  50 out of  50 | elapsed:  7.8min finished\n"
          ],
          "name": "stderr"
        },
        {
          "output_type": "stream",
          "text": [
            "[13:01:42] WARNING: /workspace/src/objective/regression_obj.cu:152: reg:linear is now deprecated in favor of reg:squarederror.\n",
            "best value：: {'n_estimators': 1000}\n",
            "best score: 0.7305247512296441\n"
          ],
          "name": "stdout"
        }
      ]
    },
    {
      "cell_type": "code",
      "metadata": {
        "colab": {
          "base_uri": "https://localhost:8080/"
        },
        "id": "czZ-B_F_i42c",
        "outputId": "5edc553a-75d3-47a7-8279-b3df5bbeae4c"
      },
      "source": [
        "cv_params = {'n_estimators': np.linspace(1000, 1500, 5, dtype=int)}\n",
        "gs = GridSearchCV(xgbr, cv_params, verbose=2, refit=True, cv=5, n_jobs=-1)\n",
        "gs.fit(X_train, y_train)  \n",
        "\n",
        "print(\"best value：:\", gs.best_params_)\n",
        "print(\"best score:\", gs.best_score_)"
      ],
      "execution_count": null,
      "outputs": [
        {
          "output_type": "stream",
          "text": [
            "Fitting 5 folds for each of 5 candidates, totalling 25 fits\n"
          ],
          "name": "stdout"
        },
        {
          "output_type": "stream",
          "text": [
            "[Parallel(n_jobs=-1)]: Using backend LokyBackend with 2 concurrent workers.\n",
            "[Parallel(n_jobs=-1)]: Done  25 out of  25 | elapsed:  8.9min finished\n"
          ],
          "name": "stderr"
        },
        {
          "output_type": "stream",
          "text": [
            "[13:33:11] WARNING: /workspace/src/objective/regression_obj.cu:152: reg:linear is now deprecated in favor of reg:squarederror.\n",
            "best value：: {'n_estimators': 1500}\n",
            "best score: 0.7359042063074014\n"
          ],
          "name": "stdout"
        }
      ]
    },
    {
      "cell_type": "code",
      "metadata": {
        "colab": {
          "base_uri": "https://localhost:8080/"
        },
        "id": "0Q5M_u--n4XY",
        "outputId": "6912177d-a023-47a7-da4b-7cceffb47c3e"
      },
      "source": [
        "cv_params = {'max_depth': np.linspace(1, 10, 10, dtype=int)}\n",
        "\n",
        "param = { 'eta':1, 'silent':0, 'objective':'reg:linear', 'n_estimators':1500}\n",
        "xgbr = xgb.XGBRegressor(**param)\n",
        "gs = GridSearchCV(xgbr, cv_params, verbose=2, refit=True, cv=5, n_jobs=-1)\n",
        "gs.fit(X_train, y_train)  \n",
        "\n",
        "print(\"best value：:\", gs.best_params_)\n",
        "print(\"best score:\", gs.best_score_)"
      ],
      "execution_count": null,
      "outputs": [
        {
          "output_type": "stream",
          "text": [
            "Fitting 5 folds for each of 10 candidates, totalling 50 fits\n"
          ],
          "name": "stdout"
        },
        {
          "output_type": "stream",
          "text": [
            "[Parallel(n_jobs=-1)]: Using backend LokyBackend with 2 concurrent workers.\n",
            "[Parallel(n_jobs=-1)]: Done  50 out of  50 | elapsed: 56.0min finished\n"
          ],
          "name": "stderr"
        },
        {
          "output_type": "stream",
          "text": [
            "[14:34:36] WARNING: /workspace/src/objective/regression_obj.cu:152: reg:linear is now deprecated in favor of reg:squarederror.\n",
            "best value：: {'max_depth': 8}\n",
            "best score: 0.7755885852701653\n"
          ],
          "name": "stdout"
        }
      ]
    },
    {
      "cell_type": "code",
      "metadata": {
        "colab": {
          "base_uri": "https://localhost:8080/"
        },
        "id": "ybvq3neo3gJi",
        "outputId": "9c9789ed-ba57-4990-8188-01c269fd3233"
      },
      "source": [
        "param = { 'eta':1, 'silent':0, 'objective':'reg:linear', 'n_estimators':1500, 'max_depth': 8}\n",
        "cv_params = {'min_child_weight': np.linspace(1, 10, 10, dtype=int)}\n",
        "xgbr = xgb.XGBRegressor(**param)  \n",
        "gs = GridSearchCV(xgbr, cv_params, verbose=2, refit=True, cv=5, n_jobs=-1)\n",
        "gs.fit(X_train, y_train)  \n",
        "\n",
        "print(\"best value：:\", gs.best_params_)\n",
        "print(\"best score:\", gs.best_score_)"
      ],
      "execution_count": null,
      "outputs": [
        {
          "output_type": "stream",
          "text": [
            "[Parallel(n_jobs=-1)]: Done  37 tasks      | elapsed: 60.3min\n"
          ],
          "name": "stderr"
        }
      ]
    },
    {
      "cell_type": "code",
      "metadata": {
        "colab": {
          "base_uri": "https://localhost:8080/"
        },
        "id": "4yPAa4OYLHYj",
        "outputId": "8af59163-913f-4ad6-e522-c4c4c1549a11"
      },
      "source": [
        "print(\"best value：:\", gs.best_params_)\n",
        "print(\"best score:\", gs.best_score_)"
      ],
      "execution_count": null,
      "outputs": [
        {
          "output_type": "stream",
          "text": [
            "best value：: {'min_child_weight': 4}\n",
            "best score: 0.7763869496545771\n"
          ],
          "name": "stdout"
        }
      ]
    },
    {
      "cell_type": "markdown",
      "metadata": {
        "id": "MDOZ7innLiAM"
      },
      "source": [
        "### Best parameters model"
      ]
    },
    {
      "cell_type": "code",
      "metadata": {
        "id": "9BXSr-OsLhKe"
      },
      "source": [
        "param = { 'eta':1, 'silent':0, 'objective':'reg:squarederror', 'n_estimators':1500, 'max_depth': 8, 'min_child_weight': 4}\n",
        "\n",
        "xgb_reg = xgb.XGBRegressor(**param)\n",
        "bst_start_time = time()\n",
        "xgb_reg.fit(X_train, y_train)\n",
        "bst_training_time = time() - bst_start_time\n"
      ],
      "execution_count": null,
      "outputs": []
    },
    {
      "cell_type": "code",
      "metadata": {
        "id": "UxQXOpAHLxik"
      },
      "source": [
        "train_preds = xgb_reg.predict(X_train)\n",
        "test_preds = xgb_reg.predict(X_test)\n",
        "bst_cv_rmse = -cross_val_score(xgb_reg, X_train, y_train.values.ravel(), scoring='neg_root_mean_squared_error').mean()\n",
        "bst_rmse_train = getRMSE(y_train, train_preds)\n",
        "bst_rmse_test = getRMSE(y_test, test_preds)\n",
        "bst_r2_train = r2_score(y_train, train_preds)\n",
        "bst_r2_test = r2_score(y_test, test_preds)\n"
      ],
      "execution_count": null,
      "outputs": []
    },
    {
      "cell_type": "code",
      "metadata": {
        "colab": {
          "base_uri": "https://localhost:8080/"
        },
        "id": "YrEvgOfhhqev",
        "outputId": "909ffadb-4785-4b7b-d55e-0adebbcdc436"
      },
      "source": [
        "bst_result = {\"training_time\":bst_training_time, \n",
        "                 \"cv_rmse\": bst_cv_rmse,\n",
        "                 \"train_rmse\":bst_rmse_train, \n",
        "                 \"test_rmse\":bst_rmse_test,\n",
        "                 \"train_r2\":bst_r2_train, \n",
        "                 \"test_r2\":bst_r2_test,\n",
        "                 }\n",
        "results[\"XGBoost\"] = bst_result\n",
        "print(\"XGBoost: {}\".format(bst_result))"
      ],
      "execution_count": null,
      "outputs": [
        {
          "output_type": "stream",
          "text": [
            "XGBoost: {'training_time': 125.05418682098389, 'cv_rmse': 5418.7501954753725, 'train_rmse': 2060.5979691156185, 'test_rmse': 5855.396615924981, 'train_r2': 0.9677091663405154, 'test_r2': 0.740505847732833}\n"
          ],
          "name": "stdout"
        }
      ]
    },
    {
      "cell_type": "markdown",
      "metadata": {
        "id": "M6xU8AD5ME4C"
      },
      "source": [
        "## LightGBM"
      ]
    },
    {
      "cell_type": "code",
      "metadata": {
        "id": "7-KCI_UAMQSD"
      },
      "source": [
        "import lightgbm as lgb"
      ],
      "execution_count": null,
      "outputs": []
    },
    {
      "cell_type": "code",
      "metadata": {
        "id": "x9_ey9BnOJFQ"
      },
      "source": [
        "train_lgb = lgb.Dataset(X_train, label=y_train)\n",
        "test_lgb = lgb.Dataset(X_test, label=y_test)"
      ],
      "execution_count": null,
      "outputs": []
    },
    {
      "cell_type": "markdown",
      "metadata": {
        "id": "oRGTATQmoGEH"
      },
      "source": [
        "### Model before tuning"
      ]
    },
    {
      "cell_type": "code",
      "metadata": {
        "id": "Q2XNHJwoOY7F"
      },
      "source": [
        "param = {'num_leaves':31, 'num_trees':100, 'objective':'regression'}\n",
        "param['metric'] = 'rmse'\n",
        "num_round = 10\n",
        "lgb_start_time = time()\n",
        "bst = lgb.train(param, train_lgb, num_round, valid_sets=[test_lgb])\n",
        "lgb_training_time = time() - lgb_start_time"
      ],
      "execution_count": null,
      "outputs": []
    },
    {
      "cell_type": "code",
      "metadata": {
        "id": "jKyIT3CLO1fQ"
      },
      "source": [
        "lgb_pred = bst.predict(X_test)"
      ],
      "execution_count": null,
      "outputs": []
    },
    {
      "cell_type": "code",
      "metadata": {
        "id": "jhyDj6nSQELA"
      },
      "source": [
        "lgb_pred_train = bst.predict(X_train)"
      ],
      "execution_count": null,
      "outputs": []
    },
    {
      "cell_type": "code",
      "metadata": {
        "colab": {
          "base_uri": "https://localhost:8080/"
        },
        "id": "Q7nJXV3dQTsu",
        "outputId": "bbdcf256-c579-4bd4-9f43-c7e80185eaea"
      },
      "source": [
        "lgb_rmse_train = getRMSE(y_train, lgb_pred_train)\n",
        "lgb_rmse_test = getRMSE(y_test, lgb_pred)\n",
        "lgb_r2_train = r2_score(y_train, lgb_pred_train)\n",
        "lgb_r2_test = r2_score(y_test, lgb_pred)\n",
        "lgb_result = {\"training_time\":lgb_training_time, \n",
        "                 \"train_rmse\":lgb_rmse_train, \n",
        "                 \"test_rmse\":lgb_rmse_test,\n",
        "                 \"train_r2\":lgb_r2_train, \n",
        "                 \"test_r2\":lgb_r2_test,\n",
        "                 }\n",
        "print(\"LGB: {}\".format(lgb_result))"
      ],
      "execution_count": null,
      "outputs": [
        {
          "output_type": "stream",
          "text": [
            "LGB: {'training_time': 0.6779727935791016, 'train_rmse': 5320.5938137636, 'test_rmse': 6123.752129317019, 'train_r2': 0.7847154156689984, 'test_r2': 0.7161753260718169}\n"
          ],
          "name": "stdout"
        }
      ]
    },
    {
      "cell_type": "markdown",
      "metadata": {
        "id": "c_gtUZxvRXrQ"
      },
      "source": [
        "### Hyperparameter Search"
      ]
    },
    {
      "cell_type": "code",
      "metadata": {
        "id": "tEPDjt8TQ2GW"
      },
      "source": [
        "parameters = {\n",
        "    'max_depth': [8,10,12,14,16],\n",
        "    'num_leaves': [40,50,60,70,80],\n",
        "}"
      ],
      "execution_count": null,
      "outputs": []
    },
    {
      "cell_type": "code",
      "metadata": {
        "id": "yA766Gb-Re5_"
      },
      "source": [
        "lgbmRegressor = lgb.LGBMRegressor(**param)\n",
        "gsearch = GridSearchCV(lgbmRegressor, param_grid=parameters, scoring='r2', cv=3)"
      ],
      "execution_count": null,
      "outputs": []
    },
    {
      "cell_type": "code",
      "metadata": {
        "id": "aZRS8SrKVw1F",
        "colab": {
          "base_uri": "https://localhost:8080/"
        },
        "outputId": "3d1386fa-196a-41d6-bed4-03418400b481"
      },
      "source": [
        "gsearch.fit(X_train, y_train)"
      ],
      "execution_count": null,
      "outputs": [
        {
          "output_type": "stream",
          "text": [
            "/usr/local/lib/python3.6/dist-packages/lightgbm/engine.py:118: UserWarning: Found `num_trees` in params. Will use it instead of argument\n",
            "  warnings.warn(\"Found `{}` in params. Will use it instead of argument\".format(alias))\n",
            "/usr/local/lib/python3.6/dist-packages/lightgbm/engine.py:118: UserWarning: Found `num_trees` in params. Will use it instead of argument\n",
            "  warnings.warn(\"Found `{}` in params. Will use it instead of argument\".format(alias))\n",
            "/usr/local/lib/python3.6/dist-packages/lightgbm/engine.py:118: UserWarning: Found `num_trees` in params. Will use it instead of argument\n",
            "  warnings.warn(\"Found `{}` in params. Will use it instead of argument\".format(alias))\n",
            "/usr/local/lib/python3.6/dist-packages/lightgbm/engine.py:118: UserWarning: Found `num_trees` in params. Will use it instead of argument\n",
            "  warnings.warn(\"Found `{}` in params. Will use it instead of argument\".format(alias))\n",
            "/usr/local/lib/python3.6/dist-packages/lightgbm/engine.py:118: UserWarning: Found `num_trees` in params. Will use it instead of argument\n",
            "  warnings.warn(\"Found `{}` in params. Will use it instead of argument\".format(alias))\n",
            "/usr/local/lib/python3.6/dist-packages/lightgbm/engine.py:118: UserWarning: Found `num_trees` in params. Will use it instead of argument\n",
            "  warnings.warn(\"Found `{}` in params. Will use it instead of argument\".format(alias))\n",
            "/usr/local/lib/python3.6/dist-packages/lightgbm/engine.py:118: UserWarning: Found `num_trees` in params. Will use it instead of argument\n",
            "  warnings.warn(\"Found `{}` in params. Will use it instead of argument\".format(alias))\n",
            "/usr/local/lib/python3.6/dist-packages/lightgbm/engine.py:118: UserWarning: Found `num_trees` in params. Will use it instead of argument\n",
            "  warnings.warn(\"Found `{}` in params. Will use it instead of argument\".format(alias))\n",
            "/usr/local/lib/python3.6/dist-packages/lightgbm/engine.py:118: UserWarning: Found `num_trees` in params. Will use it instead of argument\n",
            "  warnings.warn(\"Found `{}` in params. Will use it instead of argument\".format(alias))\n",
            "/usr/local/lib/python3.6/dist-packages/lightgbm/engine.py:118: UserWarning: Found `num_trees` in params. Will use it instead of argument\n",
            "  warnings.warn(\"Found `{}` in params. Will use it instead of argument\".format(alias))\n",
            "/usr/local/lib/python3.6/dist-packages/lightgbm/engine.py:118: UserWarning: Found `num_trees` in params. Will use it instead of argument\n",
            "  warnings.warn(\"Found `{}` in params. Will use it instead of argument\".format(alias))\n",
            "/usr/local/lib/python3.6/dist-packages/lightgbm/engine.py:118: UserWarning: Found `num_trees` in params. Will use it instead of argument\n",
            "  warnings.warn(\"Found `{}` in params. Will use it instead of argument\".format(alias))\n",
            "/usr/local/lib/python3.6/dist-packages/lightgbm/engine.py:118: UserWarning: Found `num_trees` in params. Will use it instead of argument\n",
            "  warnings.warn(\"Found `{}` in params. Will use it instead of argument\".format(alias))\n",
            "/usr/local/lib/python3.6/dist-packages/lightgbm/engine.py:118: UserWarning: Found `num_trees` in params. Will use it instead of argument\n",
            "  warnings.warn(\"Found `{}` in params. Will use it instead of argument\".format(alias))\n",
            "/usr/local/lib/python3.6/dist-packages/lightgbm/engine.py:118: UserWarning: Found `num_trees` in params. Will use it instead of argument\n",
            "  warnings.warn(\"Found `{}` in params. Will use it instead of argument\".format(alias))\n",
            "/usr/local/lib/python3.6/dist-packages/lightgbm/engine.py:118: UserWarning: Found `num_trees` in params. Will use it instead of argument\n",
            "  warnings.warn(\"Found `{}` in params. Will use it instead of argument\".format(alias))\n",
            "/usr/local/lib/python3.6/dist-packages/lightgbm/engine.py:118: UserWarning: Found `num_trees` in params. Will use it instead of argument\n",
            "  warnings.warn(\"Found `{}` in params. Will use it instead of argument\".format(alias))\n",
            "/usr/local/lib/python3.6/dist-packages/lightgbm/engine.py:118: UserWarning: Found `num_trees` in params. Will use it instead of argument\n",
            "  warnings.warn(\"Found `{}` in params. Will use it instead of argument\".format(alias))\n",
            "/usr/local/lib/python3.6/dist-packages/lightgbm/engine.py:118: UserWarning: Found `num_trees` in params. Will use it instead of argument\n",
            "  warnings.warn(\"Found `{}` in params. Will use it instead of argument\".format(alias))\n",
            "/usr/local/lib/python3.6/dist-packages/lightgbm/engine.py:118: UserWarning: Found `num_trees` in params. Will use it instead of argument\n",
            "  warnings.warn(\"Found `{}` in params. Will use it instead of argument\".format(alias))\n",
            "/usr/local/lib/python3.6/dist-packages/lightgbm/engine.py:118: UserWarning: Found `num_trees` in params. Will use it instead of argument\n",
            "  warnings.warn(\"Found `{}` in params. Will use it instead of argument\".format(alias))\n",
            "/usr/local/lib/python3.6/dist-packages/lightgbm/engine.py:118: UserWarning: Found `num_trees` in params. Will use it instead of argument\n",
            "  warnings.warn(\"Found `{}` in params. Will use it instead of argument\".format(alias))\n",
            "/usr/local/lib/python3.6/dist-packages/lightgbm/engine.py:118: UserWarning: Found `num_trees` in params. Will use it instead of argument\n",
            "  warnings.warn(\"Found `{}` in params. Will use it instead of argument\".format(alias))\n",
            "/usr/local/lib/python3.6/dist-packages/lightgbm/engine.py:118: UserWarning: Found `num_trees` in params. Will use it instead of argument\n",
            "  warnings.warn(\"Found `{}` in params. Will use it instead of argument\".format(alias))\n",
            "/usr/local/lib/python3.6/dist-packages/lightgbm/engine.py:118: UserWarning: Found `num_trees` in params. Will use it instead of argument\n",
            "  warnings.warn(\"Found `{}` in params. Will use it instead of argument\".format(alias))\n",
            "/usr/local/lib/python3.6/dist-packages/lightgbm/engine.py:118: UserWarning: Found `num_trees` in params. Will use it instead of argument\n",
            "  warnings.warn(\"Found `{}` in params. Will use it instead of argument\".format(alias))\n",
            "/usr/local/lib/python3.6/dist-packages/lightgbm/engine.py:118: UserWarning: Found `num_trees` in params. Will use it instead of argument\n",
            "  warnings.warn(\"Found `{}` in params. Will use it instead of argument\".format(alias))\n",
            "/usr/local/lib/python3.6/dist-packages/lightgbm/engine.py:118: UserWarning: Found `num_trees` in params. Will use it instead of argument\n",
            "  warnings.warn(\"Found `{}` in params. Will use it instead of argument\".format(alias))\n",
            "/usr/local/lib/python3.6/dist-packages/lightgbm/engine.py:118: UserWarning: Found `num_trees` in params. Will use it instead of argument\n",
            "  warnings.warn(\"Found `{}` in params. Will use it instead of argument\".format(alias))\n",
            "/usr/local/lib/python3.6/dist-packages/lightgbm/engine.py:118: UserWarning: Found `num_trees` in params. Will use it instead of argument\n",
            "  warnings.warn(\"Found `{}` in params. Will use it instead of argument\".format(alias))\n",
            "/usr/local/lib/python3.6/dist-packages/lightgbm/engine.py:118: UserWarning: Found `num_trees` in params. Will use it instead of argument\n",
            "  warnings.warn(\"Found `{}` in params. Will use it instead of argument\".format(alias))\n",
            "/usr/local/lib/python3.6/dist-packages/lightgbm/engine.py:118: UserWarning: Found `num_trees` in params. Will use it instead of argument\n",
            "  warnings.warn(\"Found `{}` in params. Will use it instead of argument\".format(alias))\n",
            "/usr/local/lib/python3.6/dist-packages/lightgbm/engine.py:118: UserWarning: Found `num_trees` in params. Will use it instead of argument\n",
            "  warnings.warn(\"Found `{}` in params. Will use it instead of argument\".format(alias))\n",
            "/usr/local/lib/python3.6/dist-packages/lightgbm/engine.py:118: UserWarning: Found `num_trees` in params. Will use it instead of argument\n",
            "  warnings.warn(\"Found `{}` in params. Will use it instead of argument\".format(alias))\n",
            "/usr/local/lib/python3.6/dist-packages/lightgbm/engine.py:118: UserWarning: Found `num_trees` in params. Will use it instead of argument\n",
            "  warnings.warn(\"Found `{}` in params. Will use it instead of argument\".format(alias))\n",
            "/usr/local/lib/python3.6/dist-packages/lightgbm/engine.py:118: UserWarning: Found `num_trees` in params. Will use it instead of argument\n",
            "  warnings.warn(\"Found `{}` in params. Will use it instead of argument\".format(alias))\n",
            "/usr/local/lib/python3.6/dist-packages/lightgbm/engine.py:118: UserWarning: Found `num_trees` in params. Will use it instead of argument\n",
            "  warnings.warn(\"Found `{}` in params. Will use it instead of argument\".format(alias))\n",
            "/usr/local/lib/python3.6/dist-packages/lightgbm/engine.py:118: UserWarning: Found `num_trees` in params. Will use it instead of argument\n",
            "  warnings.warn(\"Found `{}` in params. Will use it instead of argument\".format(alias))\n",
            "/usr/local/lib/python3.6/dist-packages/lightgbm/engine.py:118: UserWarning: Found `num_trees` in params. Will use it instead of argument\n",
            "  warnings.warn(\"Found `{}` in params. Will use it instead of argument\".format(alias))\n",
            "/usr/local/lib/python3.6/dist-packages/lightgbm/engine.py:118: UserWarning: Found `num_trees` in params. Will use it instead of argument\n",
            "  warnings.warn(\"Found `{}` in params. Will use it instead of argument\".format(alias))\n",
            "/usr/local/lib/python3.6/dist-packages/lightgbm/engine.py:118: UserWarning: Found `num_trees` in params. Will use it instead of argument\n",
            "  warnings.warn(\"Found `{}` in params. Will use it instead of argument\".format(alias))\n",
            "/usr/local/lib/python3.6/dist-packages/lightgbm/engine.py:118: UserWarning: Found `num_trees` in params. Will use it instead of argument\n",
            "  warnings.warn(\"Found `{}` in params. Will use it instead of argument\".format(alias))\n",
            "/usr/local/lib/python3.6/dist-packages/lightgbm/engine.py:118: UserWarning: Found `num_trees` in params. Will use it instead of argument\n",
            "  warnings.warn(\"Found `{}` in params. Will use it instead of argument\".format(alias))\n",
            "/usr/local/lib/python3.6/dist-packages/lightgbm/engine.py:118: UserWarning: Found `num_trees` in params. Will use it instead of argument\n",
            "  warnings.warn(\"Found `{}` in params. Will use it instead of argument\".format(alias))\n",
            "/usr/local/lib/python3.6/dist-packages/lightgbm/engine.py:118: UserWarning: Found `num_trees` in params. Will use it instead of argument\n",
            "  warnings.warn(\"Found `{}` in params. Will use it instead of argument\".format(alias))\n",
            "/usr/local/lib/python3.6/dist-packages/lightgbm/engine.py:118: UserWarning: Found `num_trees` in params. Will use it instead of argument\n",
            "  warnings.warn(\"Found `{}` in params. Will use it instead of argument\".format(alias))\n",
            "/usr/local/lib/python3.6/dist-packages/lightgbm/engine.py:118: UserWarning: Found `num_trees` in params. Will use it instead of argument\n",
            "  warnings.warn(\"Found `{}` in params. Will use it instead of argument\".format(alias))\n",
            "/usr/local/lib/python3.6/dist-packages/lightgbm/engine.py:118: UserWarning: Found `num_trees` in params. Will use it instead of argument\n",
            "  warnings.warn(\"Found `{}` in params. Will use it instead of argument\".format(alias))\n",
            "/usr/local/lib/python3.6/dist-packages/lightgbm/engine.py:118: UserWarning: Found `num_trees` in params. Will use it instead of argument\n",
            "  warnings.warn(\"Found `{}` in params. Will use it instead of argument\".format(alias))\n",
            "/usr/local/lib/python3.6/dist-packages/lightgbm/engine.py:118: UserWarning: Found `num_trees` in params. Will use it instead of argument\n",
            "  warnings.warn(\"Found `{}` in params. Will use it instead of argument\".format(alias))\n",
            "/usr/local/lib/python3.6/dist-packages/lightgbm/engine.py:118: UserWarning: Found `num_trees` in params. Will use it instead of argument\n",
            "  warnings.warn(\"Found `{}` in params. Will use it instead of argument\".format(alias))\n",
            "/usr/local/lib/python3.6/dist-packages/lightgbm/engine.py:118: UserWarning: Found `num_trees` in params. Will use it instead of argument\n",
            "  warnings.warn(\"Found `{}` in params. Will use it instead of argument\".format(alias))\n",
            "/usr/local/lib/python3.6/dist-packages/lightgbm/engine.py:118: UserWarning: Found `num_trees` in params. Will use it instead of argument\n",
            "  warnings.warn(\"Found `{}` in params. Will use it instead of argument\".format(alias))\n",
            "/usr/local/lib/python3.6/dist-packages/lightgbm/engine.py:118: UserWarning: Found `num_trees` in params. Will use it instead of argument\n",
            "  warnings.warn(\"Found `{}` in params. Will use it instead of argument\".format(alias))\n",
            "/usr/local/lib/python3.6/dist-packages/lightgbm/engine.py:118: UserWarning: Found `num_trees` in params. Will use it instead of argument\n",
            "  warnings.warn(\"Found `{}` in params. Will use it instead of argument\".format(alias))\n",
            "/usr/local/lib/python3.6/dist-packages/lightgbm/engine.py:118: UserWarning: Found `num_trees` in params. Will use it instead of argument\n",
            "  warnings.warn(\"Found `{}` in params. Will use it instead of argument\".format(alias))\n",
            "/usr/local/lib/python3.6/dist-packages/lightgbm/engine.py:118: UserWarning: Found `num_trees` in params. Will use it instead of argument\n",
            "  warnings.warn(\"Found `{}` in params. Will use it instead of argument\".format(alias))\n",
            "/usr/local/lib/python3.6/dist-packages/lightgbm/engine.py:118: UserWarning: Found `num_trees` in params. Will use it instead of argument\n",
            "  warnings.warn(\"Found `{}` in params. Will use it instead of argument\".format(alias))\n",
            "/usr/local/lib/python3.6/dist-packages/lightgbm/engine.py:118: UserWarning: Found `num_trees` in params. Will use it instead of argument\n",
            "  warnings.warn(\"Found `{}` in params. Will use it instead of argument\".format(alias))\n",
            "/usr/local/lib/python3.6/dist-packages/lightgbm/engine.py:118: UserWarning: Found `num_trees` in params. Will use it instead of argument\n",
            "  warnings.warn(\"Found `{}` in params. Will use it instead of argument\".format(alias))\n",
            "/usr/local/lib/python3.6/dist-packages/lightgbm/engine.py:118: UserWarning: Found `num_trees` in params. Will use it instead of argument\n",
            "  warnings.warn(\"Found `{}` in params. Will use it instead of argument\".format(alias))\n",
            "/usr/local/lib/python3.6/dist-packages/lightgbm/engine.py:118: UserWarning: Found `num_trees` in params. Will use it instead of argument\n",
            "  warnings.warn(\"Found `{}` in params. Will use it instead of argument\".format(alias))\n",
            "/usr/local/lib/python3.6/dist-packages/lightgbm/engine.py:118: UserWarning: Found `num_trees` in params. Will use it instead of argument\n",
            "  warnings.warn(\"Found `{}` in params. Will use it instead of argument\".format(alias))\n",
            "/usr/local/lib/python3.6/dist-packages/lightgbm/engine.py:118: UserWarning: Found `num_trees` in params. Will use it instead of argument\n",
            "  warnings.warn(\"Found `{}` in params. Will use it instead of argument\".format(alias))\n",
            "/usr/local/lib/python3.6/dist-packages/lightgbm/engine.py:118: UserWarning: Found `num_trees` in params. Will use it instead of argument\n",
            "  warnings.warn(\"Found `{}` in params. Will use it instead of argument\".format(alias))\n",
            "/usr/local/lib/python3.6/dist-packages/lightgbm/engine.py:118: UserWarning: Found `num_trees` in params. Will use it instead of argument\n",
            "  warnings.warn(\"Found `{}` in params. Will use it instead of argument\".format(alias))\n",
            "/usr/local/lib/python3.6/dist-packages/lightgbm/engine.py:118: UserWarning: Found `num_trees` in params. Will use it instead of argument\n",
            "  warnings.warn(\"Found `{}` in params. Will use it instead of argument\".format(alias))\n",
            "/usr/local/lib/python3.6/dist-packages/lightgbm/engine.py:118: UserWarning: Found `num_trees` in params. Will use it instead of argument\n",
            "  warnings.warn(\"Found `{}` in params. Will use it instead of argument\".format(alias))\n",
            "/usr/local/lib/python3.6/dist-packages/lightgbm/engine.py:118: UserWarning: Found `num_trees` in params. Will use it instead of argument\n",
            "  warnings.warn(\"Found `{}` in params. Will use it instead of argument\".format(alias))\n",
            "/usr/local/lib/python3.6/dist-packages/lightgbm/engine.py:118: UserWarning: Found `num_trees` in params. Will use it instead of argument\n",
            "  warnings.warn(\"Found `{}` in params. Will use it instead of argument\".format(alias))\n",
            "/usr/local/lib/python3.6/dist-packages/lightgbm/engine.py:118: UserWarning: Found `num_trees` in params. Will use it instead of argument\n",
            "  warnings.warn(\"Found `{}` in params. Will use it instead of argument\".format(alias))\n",
            "/usr/local/lib/python3.6/dist-packages/lightgbm/engine.py:118: UserWarning: Found `num_trees` in params. Will use it instead of argument\n",
            "  warnings.warn(\"Found `{}` in params. Will use it instead of argument\".format(alias))\n",
            "/usr/local/lib/python3.6/dist-packages/lightgbm/engine.py:118: UserWarning: Found `num_trees` in params. Will use it instead of argument\n",
            "  warnings.warn(\"Found `{}` in params. Will use it instead of argument\".format(alias))\n",
            "/usr/local/lib/python3.6/dist-packages/lightgbm/engine.py:118: UserWarning: Found `num_trees` in params. Will use it instead of argument\n",
            "  warnings.warn(\"Found `{}` in params. Will use it instead of argument\".format(alias))\n",
            "/usr/local/lib/python3.6/dist-packages/lightgbm/engine.py:118: UserWarning: Found `num_trees` in params. Will use it instead of argument\n",
            "  warnings.warn(\"Found `{}` in params. Will use it instead of argument\".format(alias))\n",
            "/usr/local/lib/python3.6/dist-packages/lightgbm/engine.py:118: UserWarning: Found `num_trees` in params. Will use it instead of argument\n",
            "  warnings.warn(\"Found `{}` in params. Will use it instead of argument\".format(alias))\n"
          ],
          "name": "stderr"
        },
        {
          "output_type": "execute_result",
          "data": {
            "text/plain": [
              "GridSearchCV(cv=3, error_score=nan,\n",
              "             estimator=LGBMRegressor(boosting_type='gbdt', class_weight=None,\n",
              "                                     colsample_bytree=1.0,\n",
              "                                     importance_type='split', learning_rate=0.1,\n",
              "                                     max_depth=-1, metric='rmse',\n",
              "                                     min_child_samples=20,\n",
              "                                     min_child_weight=0.001, min_split_gain=0.0,\n",
              "                                     n_estimators=100, n_jobs=-1, num_leaves=31,\n",
              "                                     num_trees=100, objective='regression',\n",
              "                                     random_state=None, reg_alpha=0.0,\n",
              "                                     reg_lambda=0.0, silent=True, subsample=1.0,\n",
              "                                     subsample_for_bin=200000,\n",
              "                                     subsample_freq=0),\n",
              "             iid='deprecated', n_jobs=None,\n",
              "             param_grid={'max_depth': [8, 10, 12, 14, 16],\n",
              "                         'num_leaves': [40, 50, 60, 70, 80]},\n",
              "             pre_dispatch='2*n_jobs', refit=True, return_train_score=False,\n",
              "             scoring='r2', verbose=0)"
            ]
          },
          "metadata": {
            "tags": []
          },
          "execution_count": 31
        }
      ]
    },
    {
      "cell_type": "code",
      "metadata": {
        "colab": {
          "base_uri": "https://localhost:8080/"
        },
        "id": "GGf3LtwxVTtH",
        "outputId": "50e3f30f-c764-4228-9bf5-180fded45eb3"
      },
      "source": [
        "print('Best values:{0}'.format(gsearch.best_params_))\n",
        "print('Best score:{0}'.format(gsearch.best_score_))"
      ],
      "execution_count": null,
      "outputs": [
        {
          "output_type": "stream",
          "text": [
            "Best values:{'max_depth': 16, 'num_leaves': 80}\n",
            "Best score:0.7599992298075859\n"
          ],
          "name": "stdout"
        }
      ]
    },
    {
      "cell_type": "markdown",
      "metadata": {
        "id": "2PHSPQMeXJ_r"
      },
      "source": [
        "### Best parameters model"
      ]
    },
    {
      "cell_type": "code",
      "metadata": {
        "id": "EwiXMbo4XBSe",
        "colab": {
          "base_uri": "https://localhost:8080/"
        },
        "outputId": "9808e46d-c43d-4469-f5e2-44cdc35a5c4f"
      },
      "source": [
        "param = { 'n_estimators':1500, 'num_trees':100, 'objective':'regression', 'max_depth': 16, 'num_leaves': 80}\n",
        "param['metric'] = 'rmse'\n",
        "lgbm_reg = lgb.LGBMRegressor(**param)\n",
        "num_round = 10\n",
        "lgb_start_time = time()\n",
        "lgbm_reg.fit(X_train, y_train)\n",
        "lgb_training_time = time() - lgb_start_time\n"
      ],
      "execution_count": null,
      "outputs": [
        {
          "output_type": "stream",
          "text": [
            "/usr/local/lib/python3.6/dist-packages/lightgbm/engine.py:118: UserWarning: Found `num_trees` in params. Will use it instead of argument\n",
            "  warnings.warn(\"Found `{}` in params. Will use it instead of argument\".format(alias))\n"
          ],
          "name": "stderr"
        }
      ]
    },
    {
      "cell_type": "code",
      "metadata": {
        "colab": {
          "base_uri": "https://localhost:8080/"
        },
        "id": "88bXwkZ1iOZH",
        "outputId": "2650b3e1-541a-4d8f-d40f-a2a1a9127f3d"
      },
      "source": [
        "lgb_pred = lgbm_reg.predict(X_test)\n",
        "lgb_cv_rmse = -cross_val_score(lgbm_reg, X_train, y_train.values.ravel(), scoring='neg_root_mean_squared_error').mean()\n",
        "lgb_pred_train = lgbm_reg.predict(X_train)\n",
        "lgb_rmse_train = getRMSE(y_train, lgb_pred_train)\n",
        "lgb_rmse_test = getRMSE(y_test, lgb_pred)\n",
        "lgb_r2_train = r2_score(y_train, lgb_pred_train)\n",
        "lgb_r2_test = r2_score(y_test, lgb_pred)\n",
        "lgb_result = {\"training_time\":lgb_training_time, \n",
        "              \"cv_rmse\": lgb_cv_rmse,\n",
        "              \"train_rmse\":lgb_rmse_train, \n",
        "              \"test_rmse\":lgb_rmse_test,\n",
        "              \"train_r2\":lgb_r2_train, \n",
        "              \"test_r2\":lgb_r2_test,\n",
        "              }\n",
        "results[\"LightGBM\"] = lgb_result"
      ],
      "execution_count": null,
      "outputs": [
        {
          "output_type": "stream",
          "text": [
            "/usr/local/lib/python3.6/dist-packages/lightgbm/engine.py:118: UserWarning: Found `num_trees` in params. Will use it instead of argument\n",
            "  warnings.warn(\"Found `{}` in params. Will use it instead of argument\".format(alias))\n",
            "/usr/local/lib/python3.6/dist-packages/lightgbm/engine.py:118: UserWarning: Found `num_trees` in params. Will use it instead of argument\n",
            "  warnings.warn(\"Found `{}` in params. Will use it instead of argument\".format(alias))\n",
            "/usr/local/lib/python3.6/dist-packages/lightgbm/engine.py:118: UserWarning: Found `num_trees` in params. Will use it instead of argument\n",
            "  warnings.warn(\"Found `{}` in params. Will use it instead of argument\".format(alias))\n",
            "/usr/local/lib/python3.6/dist-packages/lightgbm/engine.py:118: UserWarning: Found `num_trees` in params. Will use it instead of argument\n",
            "  warnings.warn(\"Found `{}` in params. Will use it instead of argument\".format(alias))\n",
            "/usr/local/lib/python3.6/dist-packages/lightgbm/engine.py:118: UserWarning: Found `num_trees` in params. Will use it instead of argument\n",
            "  warnings.warn(\"Found `{}` in params. Will use it instead of argument\".format(alias))\n"
          ],
          "name": "stderr"
        }
      ]
    },
    {
      "cell_type": "code",
      "metadata": {
        "colab": {
          "base_uri": "https://localhost:8080/"
        },
        "id": "YKmwYewoXfBK",
        "outputId": "c7469239-012f-4899-e778-4a03a01d4986"
      },
      "source": [
        "print(\"LightGBM: {}\".format(lgb_result))"
      ],
      "execution_count": null,
      "outputs": [
        {
          "output_type": "stream",
          "text": [
            "LightGBM: {'training_time': 0.903496265411377, 'cv_rmse': 5519.48955607348, 'train_rmse': 4796.108303197684, 'test_rmse': 5983.961682285, 'train_r2': 0.8250674263566358, 'test_r2': 0.728985486875156}\n"
          ],
          "name": "stdout"
        }
      ]
    },
    {
      "cell_type": "markdown",
      "metadata": {
        "id": "UUVf_0tTccGQ"
      },
      "source": [
        "## Model Comparison"
      ]
    },
    {
      "cell_type": "code",
      "metadata": {
        "id": "fvoMgf0tLzLz"
      },
      "source": [
        "import matplotlib.pyplot as plt\n",
        "import seaborn as sns"
      ],
      "execution_count": null,
      "outputs": []
    },
    {
      "cell_type": "code",
      "metadata": {
        "colab": {
          "base_uri": "https://localhost:8080/",
          "height": 197
        },
        "id": "KVi5OA__Jw4T",
        "outputId": "64f96e86-39ac-432d-da56-9120ad3ea899"
      },
      "source": [
        "results_df = pd.DataFrame.from_dict(results, orient='index')\n",
        "results_df"
      ],
      "execution_count": null,
      "outputs": [
        {
          "output_type": "execute_result",
          "data": {
            "text/html": [
              "<div>\n",
              "<style scoped>\n",
              "    .dataframe tbody tr th:only-of-type {\n",
              "        vertical-align: middle;\n",
              "    }\n",
              "\n",
              "    .dataframe tbody tr th {\n",
              "        vertical-align: top;\n",
              "    }\n",
              "\n",
              "    .dataframe thead th {\n",
              "        text-align: right;\n",
              "    }\n",
              "</style>\n",
              "<table border=\"1\" class=\"dataframe\">\n",
              "  <thead>\n",
              "    <tr style=\"text-align: right;\">\n",
              "      <th></th>\n",
              "      <th>training_time</th>\n",
              "      <th>cv_rmse</th>\n",
              "      <th>train_rmse</th>\n",
              "      <th>test_rmse</th>\n",
              "      <th>train_r2</th>\n",
              "      <th>test_r2</th>\n",
              "    </tr>\n",
              "  </thead>\n",
              "  <tbody>\n",
              "    <tr>\n",
              "      <th>XGBoost</th>\n",
              "      <td>125.054187</td>\n",
              "      <td>5418.750195</td>\n",
              "      <td>2060.597969</td>\n",
              "      <td>5855.396616</td>\n",
              "      <td>0.967709</td>\n",
              "      <td>0.740506</td>\n",
              "    </tr>\n",
              "    <tr>\n",
              "      <th>LightGBM</th>\n",
              "      <td>0.852564</td>\n",
              "      <td>5642.526361</td>\n",
              "      <td>5255.073493</td>\n",
              "      <td>6088.480356</td>\n",
              "      <td>0.789985</td>\n",
              "      <td>0.719435</td>\n",
              "    </tr>\n",
              "    <tr>\n",
              "      <th>SVR</th>\n",
              "      <td>230.376238</td>\n",
              "      <td>7467.893745</td>\n",
              "      <td>7429.521081</td>\n",
              "      <td>7707.180509</td>\n",
              "      <td>0.580227</td>\n",
              "      <td>0.550421</td>\n",
              "    </tr>\n",
              "    <tr>\n",
              "      <th>RandomForest</th>\n",
              "      <td>57.138665</td>\n",
              "      <td>6687.823770</td>\n",
              "      <td>6561.330977</td>\n",
              "      <td>7140.467409</td>\n",
              "      <td>0.672602</td>\n",
              "      <td>0.614106</td>\n",
              "    </tr>\n",
              "    <tr>\n",
              "      <th>LinearReg</th>\n",
              "      <td>0.029039</td>\n",
              "      <td>8783.593742</td>\n",
              "      <td>8769.258644</td>\n",
              "      <td>8908.238746</td>\n",
              "      <td>0.415185</td>\n",
              "      <td>0.399382</td>\n",
              "    </tr>\n",
              "  </tbody>\n",
              "</table>\n",
              "</div>"
            ],
            "text/plain": [
              "              training_time      cv_rmse  ...  train_r2   test_r2\n",
              "XGBoost          125.054187  5418.750195  ...  0.967709  0.740506\n",
              "LightGBM           0.852564  5642.526361  ...  0.789985  0.719435\n",
              "SVR              230.376238  7467.893745  ...  0.580227  0.550421\n",
              "RandomForest      57.138665  6687.823770  ...  0.672602  0.614106\n",
              "LinearReg          0.029039  8783.593742  ...  0.415185  0.399382\n",
              "\n",
              "[5 rows x 6 columns]"
            ]
          },
          "metadata": {
            "tags": []
          },
          "execution_count": 197
        }
      ]
    },
    {
      "cell_type": "code",
      "metadata": {
        "colab": {
          "base_uri": "https://localhost:8080/",
          "height": 786
        },
        "id": "ZBISNwr7O01-",
        "outputId": "ff6fe5d1-54ad-464c-edb5-a4ccb469fc61"
      },
      "source": [
        "fig, axes = plt.subplots(3, 2, figsize=(20, 12))\n",
        "axes = axes.flatten()\n",
        "fig.suptitle('Model Comparison', fontsize=18)\n",
        "count=0\n",
        "for col in results_df.columns:\n",
        "  ax=axes[count]\n",
        "  ax.set_title(col)\n",
        "  sns.barplot(ax=ax,\n",
        "              data= results_df,\n",
        "              x= results_df.index,\n",
        "              y= col)\n",
        "  count += 1"
      ],
      "execution_count": null,
      "outputs": [
        {
          "output_type": "display_data",
          "data": {
            "image/png": "[encoded data removed]",
            "text/plain": [
              "<Figure size 1440x864 with 6 Axes>"
            ]
          },
          "metadata": {
            "tags": [],
            "needs_background": "light"
          }
        }
      ]
    },
    {
      "cell_type": "code",
      "metadata": {
        "id": "Xp2zIO3zKWYu"
      },
      "source": [
        ""
      ],
      "execution_count": null,
      "outputs": []
    }
  ]
}