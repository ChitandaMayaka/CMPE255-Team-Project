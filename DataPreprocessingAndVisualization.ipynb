{
  "nbformat": 4,
  "nbformat_minor": 0,
  "metadata": {
    "colab": {
      "name": "CMPE255 Team Project.ipynb",
      "provenance": [],
      "collapsed_sections": [],
      "toc_visible": true,
      "include_colab_link": true
    },
    "kernelspec": {
      "display_name": "Python 3",
      "name": "python3"
    }
  },
  "cells": [
    {
      "cell_type": "markdown",
      "metadata": {
        "id": "view-in-github",
        "colab_type": "text"
      },
      "source": [
        "<a href=\"https://colab.research.google.com/github/ChitandaMayaka/CMPE255-Team-Project/blob/main/DataPreprocessingAndVisualization.ipynb\" target=\"_parent\"><img src=\"https://colab.research.google.com/assets/colab-badge.svg\" alt=\"Open In Colab\"/></a>"
      ]
    },
    {
      "cell_type": "markdown",
      "metadata": {
        "id": "_A1KJH5z0CrB"
      },
      "source": [
        "# Data Preprocessing and Visualization\n",
        "\n",
        "- Data Preprocessing\n",
        "    - Drop all unnecessary column ['id', 'url', 'region_url', 'vin','size', 'type', 'paint_color', 'image_url', 'description', 'county', 'lat', 'long']\n",
        "    - Drop duplicated row\n",
        "    - Preprocessing price. Drop the value under 1000 and over 100000\n",
        "    - Preprocessing year. Drop the value under 1980 and over 2020\n",
        "\n",
        "- Data Visualization\n",
        "  - Missing \n",
        "  - Distribution(count) by manufacturer\n",
        "  - Price range by manufacturer\n",
        "  - Distribution(count) by year\n",
        "  - Price ranage by year\n",
        "  - Proportion by Fuel Type\n",
        "  - Visualize car location in map"
      ]
    },
    {
      "cell_type": "code",
      "metadata": {
        "id": "ABoo_eXpPM0s"
      },
      "source": [
        "from google.colab import drive\n",
        "drive.mount('/content/drive')"
      ],
      "execution_count": null,
      "outputs": []
    },
    {
      "cell_type": "code",
      "metadata": {
        "id": "Yx3taYYP65kZ"
      },
      "source": [
        "import numpy as np\n",
        "import pandas as pd\n",
        "import matplotlib.pyplot as plt\n",
        "import seaborn as sns\n",
        "import plotly.express as px"
      ],
      "execution_count": null,
      "outputs": []
    },
    {
      "cell_type": "markdown",
      "metadata": {
        "id": "MA5hGA05z4AU"
      },
      "source": [
        "## Data Preprocessing"
      ]
    },
    {
      "cell_type": "markdown",
      "metadata": {
        "id": "E_0whaMPJxgT"
      },
      "source": [
        "### Handle with common unnecessary columns and rows"
      ]
    },
    {
      "cell_type": "code",
      "metadata": {
        "id": "WotVBAHz_-vl"
      },
      "source": [
        "data = pd.read_csv('drive/Shared drives/CMPE255 Project/dataset/vehicles.csv')"
      ],
      "execution_count": null,
      "outputs": []
    },
    {
      "cell_type": "code",
      "metadata": {
        "id": "nvZeRcPGAg79"
      },
      "source": [
        "data.head()"
      ],
      "execution_count": null,
      "outputs": []
    },
    {
      "cell_type": "code",
      "metadata": {
        "id": "Mspl7X-VBSVt"
      },
      "source": [
        "data.columns"
      ],
      "execution_count": null,
      "outputs": []
    },
    {
      "cell_type": "code",
      "metadata": {
        "id": "pxZPtHxjBJgC"
      },
      "source": [
        "# Drop unnecessary columns\n",
        "data.drop(columns=['id', 'url', 'region_url', 'vin','size', 'type', 'paint_color', 'image_url', 'description', 'county'], inplace=True)"
      ],
      "execution_count": null,
      "outputs": []
    },
    {
      "cell_type": "code",
      "metadata": {
        "id": "_4RvEtj1_5hE"
      },
      "source": [
        "# Remove duplicated row\n",
        "data.drop_duplicates(inplace=True)"
      ],
      "execution_count": null,
      "outputs": []
    },
    {
      "cell_type": "code",
      "metadata": {
        "id": "z5AKGGcWD_z8"
      },
      "source": [
        "data.isnull().sum()"
      ],
      "execution_count": null,
      "outputs": []
    },
    {
      "cell_type": "code",
      "metadata": {
        "id": "rajozPacBRZD"
      },
      "source": [
        "data"
      ],
      "execution_count": null,
      "outputs": []
    },
    {
      "cell_type": "code",
      "metadata": {
        "id": "jziErKe4V-9_"
      },
      "source": [
        "# remove rows which do not have year, manufacturer and odometer all three of them\n",
        "index_num = data[data['year'].isnull() & data['manufacturer'].isnull() & \n",
        "                 data['odometer'].isnull()].index"
      ],
      "execution_count": null,
      "outputs": []
    },
    {
      "cell_type": "code",
      "metadata": {
        "id": "ln2m1IhUXe3_"
      },
      "source": [
        "data.drop(index_num, inplace=True)"
      ],
      "execution_count": null,
      "outputs": []
    },
    {
      "cell_type": "code",
      "metadata": {
        "id": "MVNAbO4vX4XC"
      },
      "source": [
        "data"
      ],
      "execution_count": null,
      "outputs": []
    },
    {
      "cell_type": "markdown",
      "metadata": {
        "id": "pQo-hIulZ-7h"
      },
      "source": [
        "### Preprocessing price"
      ]
    },
    {
      "cell_type": "code",
      "metadata": {
        "id": "635a2xs02bHl"
      },
      "source": [
        "# filter abnormal price data\n",
        "# We can think the car whose price under $1000 are scarp\n",
        "# and over $100000 are overprice\n",
        "data['price'].describe()"
      ],
      "execution_count": null,
      "outputs": []
    },
    {
      "cell_type": "code",
      "metadata": {
        "id": "AL_Vrkxu21f8"
      },
      "source": [
        "data.drop(data[data['price'] < 1000].index, inplace=True)\n",
        "data.drop(data[data['price'] > 3e5].index, inplace=True)\n",
        "data['price'].describe()"
      ],
      "execution_count": null,
      "outputs": []
    },
    {
      "cell_type": "code",
      "metadata": {
        "id": "Sj6fTuPM-O2v"
      },
      "source": [
        "#average_price_bymanufacturer = data.groupby('manufacturer')['price'].mean()"
      ],
      "execution_count": null,
      "outputs": []
    },
    {
      "cell_type": "code",
      "metadata": {
        "id": "X2McOy9nZMVu"
      },
      "source": [
        "#average_price_bymanufacturer.sort_values(ascending=False, inplace=True)"
      ],
      "execution_count": null,
      "outputs": []
    },
    {
      "cell_type": "code",
      "metadata": {
        "id": "BjYwFVlyW9S_"
      },
      "source": [
        "# Visualize data after all preprocessing\n",
        "#plt.figure(figsize=(15,10))\n",
        "#ax = average_price_bymanufacturer.plot.bar()\n",
        "#plt.title('Average Price by Manufacturer')\n",
        "#plt.show()"
      ],
      "execution_count": null,
      "outputs": []
    },
    {
      "cell_type": "code",
      "metadata": {
        "id": "B-Ib1QZExRsU"
      },
      "source": [
        "#average_price_byyear = data.groupby('year')['price'].mean()"
      ],
      "execution_count": null,
      "outputs": []
    },
    {
      "cell_type": "code",
      "metadata": {
        "id": "G1tE6LA5xbD9"
      },
      "source": [
        "#plt.figure(figsize=(15,10))\n",
        "#ax =average_price_byyear.plot.bar()\n",
        "#plt.title('Average Price by Year')\n",
        "#plt.show()"
      ],
      "execution_count": null,
      "outputs": []
    },
    {
      "cell_type": "code",
      "metadata": {
        "id": "HNdCNgX2Y-On"
      },
      "source": [
        "data[data['state'] == 'ca']"
      ],
      "execution_count": null,
      "outputs": []
    },
    {
      "cell_type": "code",
      "metadata": {
        "id": "N0nykM72aBpQ"
      },
      "source": [
        "data[data['price'] == 3e5]"
      ],
      "execution_count": null,
      "outputs": []
    },
    {
      "cell_type": "markdown",
      "metadata": {
        "id": "cb2EhilUaDYg"
      },
      "source": [
        "### Preprocessing year"
      ]
    },
    {
      "cell_type": "code",
      "metadata": {
        "id": "PY7BPSt-aGY5"
      },
      "source": [
        "data['year'].isnull().sum()"
      ],
      "execution_count": null,
      "outputs": []
    },
    {
      "cell_type": "code",
      "metadata": {
        "id": "U2n-QCr-auy7"
      },
      "source": [
        "data['year'].describe()"
      ],
      "execution_count": null,
      "outputs": []
    },
    {
      "cell_type": "code",
      "metadata": {
        "id": "eHCdJ37racjH"
      },
      "source": [
        "# discard value in ['year'] smaller than 1980 and bigger than 2021\n",
        "data['year'] = data['year'].loc[data['year'] > 1980]\n",
        "data['year'] = data['year'].loc[data['year'] < 2021]\n",
        "data['year'].describe()"
      ],
      "execution_count": null,
      "outputs": []
    },
    {
      "cell_type": "code",
      "metadata": {
        "id": "tpIOpwWFapWe"
      },
      "source": [
        "data['year'].value_counts()"
      ],
      "execution_count": null,
      "outputs": []
    },
    {
      "cell_type": "code",
      "metadata": {
        "id": "FZi9cQ4gatn1"
      },
      "source": [
        ""
      ],
      "execution_count": null,
      "outputs": []
    },
    {
      "cell_type": "code",
      "metadata": {
        "id": "wv7OIthyxES2"
      },
      "source": [
        ""
      ],
      "execution_count": null,
      "outputs": []
    },
    {
      "cell_type": "markdown",
      "metadata": {
        "id": "baGuZI3vy0Li"
      },
      "source": [
        "### Preprocessing region and state"
      ]
    },
    {
      "cell_type": "code",
      "metadata": {
        "id": "bC8cAUx4yzmc"
      },
      "source": [
        "data['region'].isnull().sum()"
      ],
      "execution_count": null,
      "outputs": []
    },
    {
      "cell_type": "code",
      "metadata": {
        "id": "lLomaolvzWIw"
      },
      "source": [
        "data['state'].isnull().sum()"
      ],
      "execution_count": null,
      "outputs": []
    },
    {
      "cell_type": "code",
      "metadata": {
        "id": "AHYuWAvoy71l"
      },
      "source": [
        "data['region'].value_counts()"
      ],
      "execution_count": null,
      "outputs": []
    },
    {
      "cell_type": "code",
      "metadata": {
        "id": "NSxlorHOzfVY"
      },
      "source": [
        "data['state'].value_counts()"
      ],
      "execution_count": null,
      "outputs": []
    },
    {
      "cell_type": "code",
      "metadata": {
        "id": "yyvMfboXzj2R"
      },
      "source": [
        "len(data['state'].unique())"
      ],
      "execution_count": null,
      "outputs": []
    },
    {
      "cell_type": "code",
      "metadata": {
        "id": "WBK_eKHxzxDf"
      },
      "source": [
        "# Consider combine this two column to create new column location\n",
        "data['location'] = data['region'] + data['state']"
      ],
      "execution_count": null,
      "outputs": []
    },
    {
      "cell_type": "code",
      "metadata": {
        "id": "Rfwj0wj1hFg5"
      },
      "source": [
        "data['location'].value_counts()"
      ],
      "execution_count": null,
      "outputs": []
    },
    {
      "cell_type": "markdown",
      "metadata": {
        "id": "7uRzoyD_zVNO"
      },
      "source": [
        "### Preprocessing title status"
      ]
    },
    {
      "cell_type": "code",
      "metadata": {
        "id": "eOpjw6H205jE"
      },
      "source": [
        "# title status missing percentage\n",
        "data.title_status.isnull().sum()/len(data)"
      ],
      "execution_count": null,
      "outputs": []
    },
    {
      "cell_type": "code",
      "metadata": {
        "id": "l-geLJ5AzUhE"
      },
      "source": [
        "data.title_status.value_counts()"
      ],
      "execution_count": null,
      "outputs": []
    },
    {
      "cell_type": "code",
      "metadata": {
        "id": "kddP5SFq0g_R"
      },
      "source": [
        "# Only 0.5% title status is still missing, as most cars are clean, use clean to fill the missing values\n",
        "data.title_status.fillna(\"clean\", inplace=True)"
      ],
      "execution_count": null,
      "outputs": []
    },
    {
      "cell_type": "markdown",
      "metadata": {
        "id": "Yfk1ZCDDsDGJ"
      },
      "source": [
        "## Visualization"
      ]
    },
    {
      "cell_type": "markdown",
      "metadata": {
        "id": "8v5ruT7v3zIf"
      },
      "source": [
        "### Missing value for preprocessed data"
      ]
    },
    {
      "cell_type": "code",
      "metadata": {
        "id": "lIbZbQ6OsP7C"
      },
      "source": [
        "percent_missing = data.isnull().sum() * 100 / len(data)\n",
        "missing_value_df = pd.DataFrame({'percent_missing': percent_missing})\n",
        "missing_value_df.sort_values(by = 'percent_missing', ascending=False, inplace=True)\n",
        "missing_value_df.plot(kind=\"bar\")"
      ],
      "execution_count": null,
      "outputs": []
    },
    {
      "cell_type": "markdown",
      "metadata": {
        "id": "vXxN-OP99MJ-"
      },
      "source": [
        "### Distribution by manufacturer"
      ]
    },
    {
      "cell_type": "code",
      "metadata": {
        "id": "tHqetSGe9Tcb"
      },
      "source": [
        "plt.figure(figsize=(20,10))\n",
        "plt.xticks(rotation=45)\n",
        "sns.countplot(data['manufacturer'], order = data['manufacturer'].value_counts().index)"
      ],
      "execution_count": null,
      "outputs": []
    },
    {
      "cell_type": "markdown",
      "metadata": {
        "id": "VQVjbv5z9eru"
      },
      "source": [
        "The top 2 car manufacturers are Ford and Chevrolet, both are American automobile company. The next 3 popular are Japanese cars: Toyota, Honda and Nissan."
      ]
    },
    {
      "cell_type": "markdown",
      "metadata": {
        "id": "t8YqVUEduzoF"
      },
      "source": [
        "### Price Range by manufacturer"
      ]
    },
    {
      "cell_type": "code",
      "metadata": {
        "id": "R7uEm45Iu4LQ"
      },
      "source": [
        "plt.figure(figsize=(20,10))\n",
        "plt.xticks(rotation=45)\n",
        "sns.boxplot(x='manufacturer', y='price', data=data, showfliers=False)"
      ],
      "execution_count": null,
      "outputs": []
    },
    {
      "cell_type": "markdown",
      "metadata": {
        "id": "0Lxi4SN5ybWL"
      },
      "source": [
        "The prices for luxury car Manufacters like Ferrari or Aston Martin are significantly higher."
      ]
    },
    {
      "cell_type": "markdown",
      "metadata": {
        "id": "KG6ga4BzxPUd"
      },
      "source": [
        "### Distribution by year"
      ]
    },
    {
      "cell_type": "code",
      "metadata": {
        "id": "XwPD6pLYxVGO"
      },
      "source": [
        "plt.figure(figsize=(20,10))\n",
        "plt.xticks(rotation=45)\n",
        "sns.countplot(data['year'])"
      ],
      "execution_count": null,
      "outputs": []
    },
    {
      "cell_type": "markdown",
      "metadata": {
        "id": "WkQ-52gWyFYV"
      },
      "source": [
        "Most cars are in the recent 10 years, from 2010~2020."
      ]
    },
    {
      "cell_type": "markdown",
      "metadata": {
        "id": "6GQZ97LJwmOG"
      },
      "source": [
        "### Price Range by year"
      ]
    },
    {
      "cell_type": "code",
      "metadata": {
        "id": "eBPI4E4HwmOH"
      },
      "source": [
        "plt.figure(figsize=(20,10))\n",
        "plt.xticks(rotation=45)\n",
        "sns.boxplot(x='year', y='price', data=data, showfliers=False)"
      ],
      "execution_count": null,
      "outputs": []
    },
    {
      "cell_type": "markdown",
      "metadata": {
        "id": "HYiX8C7fx5cI"
      },
      "source": [
        "Relatively, the newer the car, the higher the price."
      ]
    },
    {
      "cell_type": "markdown",
      "metadata": {
        "id": "Fubg6hAm5VWP"
      },
      "source": [
        "### Proportion by fuel type"
      ]
    },
    {
      "cell_type": "code",
      "metadata": {
        "id": "ieKK-lEl5ZTI"
      },
      "source": [
        "data.fuel.value_counts().plot.pie(subplots=True, figsize=(11, 6), autopct='%1.0f%%', pctdistance=1.1, labeldistance=1.3)\n",
        "plt.title('Number of cars by fuel type')\n",
        "plt.legend()\n",
        "plt.show()"
      ],
      "execution_count": null,
      "outputs": []
    },
    {
      "cell_type": "markdown",
      "metadata": {
        "id": "pu9yCovR7qSk"
      },
      "source": [
        "Most(88%) of the cars are gasoline cars."
      ]
    },
    {
      "cell_type": "markdown",
      "metadata": {
        "id": "GhgCX2Mf8u25"
      },
      "source": [
        "### Visualize car location in map"
      ]
    },
    {
      "cell_type": "code",
      "metadata": {
        "id": "K2gE6Oi55xWF"
      },
      "source": [
        "data.columns"
      ],
      "execution_count": null,
      "outputs": []
    },
    {
      "cell_type": "code",
      "metadata": {
        "id": "SKu4e9fgFxkw"
      },
      "source": [
        "token = \"pk.eyJ1Ijoic3pvbmciLCJhIjoiY2tocW5mdnFrMG95NTJ5bngxdDQ5dXdoZyJ9.xDVaETZma1QC-4eCOR62PQ\"\n",
        "px.set_mapbox_access_token(token)"
      ],
      "execution_count": null,
      "outputs": []
    },
    {
      "cell_type": "code",
      "metadata": {
        "colab": {
          "background_save": true
        },
        "id": "L5hmGABzIs-V"
      },
      "source": [
        "fig = px.scatter_mapbox(data,\n",
        "                        lat=\"lat\",\n",
        "                        lon=\"long\",\n",
        "                        zoom=3,\n",
        "                        hover_name=\"manufacturer\",\n",
        "                        hover_data=['price', 'year','odometer', 'title_status'],\n",
        "                        )\n",
        "# fig.update_layout(mapbox_style=\"open-street-map\")\n",
        "fig.show()"
      ],
      "execution_count": null,
      "outputs": []
    },
    {
      "cell_type": "markdown",
      "metadata": {
        "id": "PqhlhPp6Q1bj"
      },
      "source": [
        "Most on sale used cars are in the east, there are some outliers with inaccurate latitude longitude data that results in the sea."
      ]
    },
    {
      "cell_type": "code",
      "metadata": {
        "id": "RKvhZbBjJkIx"
      },
      "source": [
        "# check outliers on map(lat lon in the sea)\n",
        "data[data.lat==30.8635]"
      ],
      "execution_count": null,
      "outputs": []
    },
    {
      "cell_type": "code",
      "metadata": {
        "id": "YNVZq1GrMZbH"
      },
      "source": [
        ""
      ],
      "execution_count": null,
      "outputs": []
    }
  ]
}