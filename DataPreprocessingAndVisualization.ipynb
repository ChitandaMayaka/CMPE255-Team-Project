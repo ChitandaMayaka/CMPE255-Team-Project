{
  "nbformat": 4,
  "nbformat_minor": 0,
  "metadata": {
    "colab": {
      "name": "CMPE255 Team Project.ipynb",
      "provenance": [],
      "toc_visible": true,
      "include_colab_link": true
    },
    "kernelspec": {
      "name": "python3",
      "display_name": "Python 3"
    }
  },
  "cells": [
    {
      "cell_type": "markdown",
      "metadata": {
        "id": "view-in-github",
        "colab_type": "text"
      },
      "source": [
        "<a href=\"https://colab.research.google.com/github/ChitandaMayaka/CMPE255-Team-Project/blob/main/DataPreprocessingAndVisualization.ipynb\" target=\"_parent\"><img src=\"https://colab.research.google.com/assets/colab-badge.svg\" alt=\"Open In Colab\"/></a>"
      ]
    },
    {
      "cell_type": "markdown",
      "metadata": {
        "id": "_A1KJH5z0CrB"
      },
      "source": [
        "# Data Preprocessing and Visulization\n",
        "\n",
        "- Data Preprocessing\n",
        "    - Drop all unnecessary column ['id', 'url', 'region_url', 'vin','size', 'type', 'paint_color', 'image_url', 'description', 'county', 'lat', 'long']\n",
        "    - Drop duplicated row\n",
        "    - Preprocessing price. Drop the value under 1000 and over 100000\n",
        "    - Preprocessing year. Drop the value under 1980 and over 2020"
      ]
    },
    {
      "cell_type": "code",
      "metadata": {
        "id": "ABoo_eXpPM0s",
        "colab": {
          "base_uri": "https://localhost:8080/"
        },
        "outputId": "e7587b97-1b65-471d-fc72-0fe606987afb"
      },
      "source": [
        "from google.colab import drive\n",
        "drive.mount('/content/drive')"
      ],
      "execution_count": 1,
      "outputs": [
        {
          "output_type": "stream",
          "text": [
            "Mounted at /content/drive\n"
          ],
          "name": "stdout"
        }
      ]
    },
    {
      "cell_type": "markdown",
      "metadata": {
        "id": "MA5hGA05z4AU"
      },
      "source": [
        "## Data Preprocessing"
      ]
    },
    {
      "cell_type": "markdown",
      "metadata": {
        "id": "E_0whaMPJxgT"
      },
      "source": [
        "### Handle with common unnecessary columns and rows"
      ]
    },
    {
      "cell_type": "code",
      "metadata": {
        "id": "Yx3taYYP65kZ"
      },
      "source": [
        "import numpy as np\n",
        "import pandas as pd\n",
        "import matplotlib.pyplot as plt"
      ],
      "execution_count": 1,
      "outputs": []
    },
    {
      "cell_type": "code",
      "metadata": {
        "id": "WotVBAHz_-vl"
      },
      "source": [
        "data = pd.read_csv('drive/Shared drives/CMPE255 Project/dataset/vehicles.csv')"
      ],
      "execution_count": 2,
      "outputs": []
    },
    {
      "cell_type": "code",
      "metadata": {
        "id": "nvZeRcPGAg79",
        "colab": {
          "base_uri": "https://localhost:8080/",
          "height": 479
        },
        "outputId": "e9713865-ffc4-4ec8-e662-42e92f65d7fd"
      },
      "source": [
        "data.head()"
      ],
      "execution_count": 3,
      "outputs": [
        {
          "output_type": "execute_result",
          "data": {
            "text/html": [
              "<div>\n",
              "<style scoped>\n",
              "    .dataframe tbody tr th:only-of-type {\n",
              "        vertical-align: middle;\n",
              "    }\n",
              "\n",
              "    .dataframe tbody tr th {\n",
              "        vertical-align: top;\n",
              "    }\n",
              "\n",
              "    .dataframe thead th {\n",
              "        text-align: right;\n",
              "    }\n",
              "</style>\n",
              "<table border=\"1\" class=\"dataframe\">\n",
              "  <thead>\n",
              "    <tr style=\"text-align: right;\">\n",
              "      <th></th>\n",
              "      <th>id</th>\n",
              "      <th>url</th>\n",
              "      <th>region</th>\n",
              "      <th>region_url</th>\n",
              "      <th>price</th>\n",
              "      <th>year</th>\n",
              "      <th>manufacturer</th>\n",
              "      <th>model</th>\n",
              "      <th>condition</th>\n",
              "      <th>cylinders</th>\n",
              "      <th>fuel</th>\n",
              "      <th>odometer</th>\n",
              "      <th>title_status</th>\n",
              "      <th>transmission</th>\n",
              "      <th>vin</th>\n",
              "      <th>drive</th>\n",
              "      <th>size</th>\n",
              "      <th>type</th>\n",
              "      <th>paint_color</th>\n",
              "      <th>image_url</th>\n",
              "      <th>description</th>\n",
              "      <th>county</th>\n",
              "      <th>state</th>\n",
              "      <th>lat</th>\n",
              "      <th>long</th>\n",
              "    </tr>\n",
              "  </thead>\n",
              "  <tbody>\n",
              "    <tr>\n",
              "      <th>0</th>\n",
              "      <td>7184791621</td>\n",
              "      <td>https://duluth.craigslist.org/ctd/d/duluth-200...</td>\n",
              "      <td>duluth / superior</td>\n",
              "      <td>https://duluth.craigslist.org</td>\n",
              "      <td>6995</td>\n",
              "      <td>2000.0</td>\n",
              "      <td>gmc</td>\n",
              "      <td>new sierra 1500</td>\n",
              "      <td>excellent</td>\n",
              "      <td>8 cylinders</td>\n",
              "      <td>gas</td>\n",
              "      <td>167783.0</td>\n",
              "      <td>clean</td>\n",
              "      <td>automatic</td>\n",
              "      <td>1GTEK19T3YE366021</td>\n",
              "      <td>4wd</td>\n",
              "      <td>NaN</td>\n",
              "      <td>NaN</td>\n",
              "      <td>red</td>\n",
              "      <td>https://images.craigslist.org/00n0n_f06ykBMcdh...</td>\n",
              "      <td>2000 *** GMC New Sierra 1500 Ext Cab 157.5  WB...</td>\n",
              "      <td>NaN</td>\n",
              "      <td>mn</td>\n",
              "      <td>46.8433</td>\n",
              "      <td>-92.2550</td>\n",
              "    </tr>\n",
              "    <tr>\n",
              "      <th>1</th>\n",
              "      <td>7184773187</td>\n",
              "      <td>https://duluth.craigslist.org/cto/d/saginaw-20...</td>\n",
              "      <td>duluth / superior</td>\n",
              "      <td>https://duluth.craigslist.org</td>\n",
              "      <td>8750</td>\n",
              "      <td>2013.0</td>\n",
              "      <td>hyundai</td>\n",
              "      <td>sonata</td>\n",
              "      <td>excellent</td>\n",
              "      <td>4 cylinders</td>\n",
              "      <td>gas</td>\n",
              "      <td>90821.0</td>\n",
              "      <td>clean</td>\n",
              "      <td>automatic</td>\n",
              "      <td>NaN</td>\n",
              "      <td>fwd</td>\n",
              "      <td>NaN</td>\n",
              "      <td>NaN</td>\n",
              "      <td>grey</td>\n",
              "      <td>https://images.craigslist.org/00d0d_kgZ6xoeRw2...</td>\n",
              "      <td>For Sale:  2013 Hyundai Sonata GLS - $8750.  O...</td>\n",
              "      <td>NaN</td>\n",
              "      <td>mn</td>\n",
              "      <td>46.9074</td>\n",
              "      <td>-92.4638</td>\n",
              "    </tr>\n",
              "    <tr>\n",
              "      <th>2</th>\n",
              "      <td>7193375964</td>\n",
              "      <td>https://newhaven.craigslist.org/cto/d/stratfor...</td>\n",
              "      <td>new haven</td>\n",
              "      <td>https://newhaven.craigslist.org</td>\n",
              "      <td>10900</td>\n",
              "      <td>2013.0</td>\n",
              "      <td>toyota</td>\n",
              "      <td>prius</td>\n",
              "      <td>good</td>\n",
              "      <td>4 cylinders</td>\n",
              "      <td>hybrid</td>\n",
              "      <td>92800.0</td>\n",
              "      <td>clean</td>\n",
              "      <td>automatic</td>\n",
              "      <td>NaN</td>\n",
              "      <td>fwd</td>\n",
              "      <td>NaN</td>\n",
              "      <td>NaN</td>\n",
              "      <td>blue</td>\n",
              "      <td>https://images.craigslist.org/00d0d_3sHGxPbY2O...</td>\n",
              "      <td>2013 Prius V Model Two. One owner—must sell my...</td>\n",
              "      <td>NaN</td>\n",
              "      <td>ct</td>\n",
              "      <td>41.1770</td>\n",
              "      <td>-73.1336</td>\n",
              "    </tr>\n",
              "    <tr>\n",
              "      <th>3</th>\n",
              "      <td>7195108810</td>\n",
              "      <td>https://albuquerque.craigslist.org/cto/d/albuq...</td>\n",
              "      <td>albuquerque</td>\n",
              "      <td>https://albuquerque.craigslist.org</td>\n",
              "      <td>12500</td>\n",
              "      <td>2003.0</td>\n",
              "      <td>mitsubishi</td>\n",
              "      <td>lancer</td>\n",
              "      <td>good</td>\n",
              "      <td>4 cylinders</td>\n",
              "      <td>gas</td>\n",
              "      <td>NaN</td>\n",
              "      <td>clean</td>\n",
              "      <td>manual</td>\n",
              "      <td>NaN</td>\n",
              "      <td>4wd</td>\n",
              "      <td>mid-size</td>\n",
              "      <td>sedan</td>\n",
              "      <td>grey</td>\n",
              "      <td>https://images.craigslist.org/00m0m_4a8Pb6JbMG...</td>\n",
              "      <td>2003 Mitsubishi Lancer Evolution, silver.  Abo...</td>\n",
              "      <td>NaN</td>\n",
              "      <td>nm</td>\n",
              "      <td>35.1868</td>\n",
              "      <td>-106.6650</td>\n",
              "    </tr>\n",
              "    <tr>\n",
              "      <th>4</th>\n",
              "      <td>7184712241</td>\n",
              "      <td>https://duluth.craigslist.org/ctd/d/rush-city-...</td>\n",
              "      <td>duluth / superior</td>\n",
              "      <td>https://duluth.craigslist.org</td>\n",
              "      <td>16995</td>\n",
              "      <td>2007.0</td>\n",
              "      <td>gmc</td>\n",
              "      <td>sierra classic 2500hd</td>\n",
              "      <td>good</td>\n",
              "      <td>8 cylinders</td>\n",
              "      <td>diesel</td>\n",
              "      <td>254217.0</td>\n",
              "      <td>clean</td>\n",
              "      <td>automatic</td>\n",
              "      <td>1GTHK23D57F102022</td>\n",
              "      <td>4wd</td>\n",
              "      <td>full-size</td>\n",
              "      <td>truck</td>\n",
              "      <td>white</td>\n",
              "      <td>https://images.craigslist.org/01414_g093aPtSMW...</td>\n",
              "      <td>**Bad Credit, No Credit... No Problem!**2007 G...</td>\n",
              "      <td>NaN</td>\n",
              "      <td>mn</td>\n",
              "      <td>45.6836</td>\n",
              "      <td>-92.9648</td>\n",
              "    </tr>\n",
              "  </tbody>\n",
              "</table>\n",
              "</div>"
            ],
            "text/plain": [
              "           id  ...      long\n",
              "0  7184791621  ...  -92.2550\n",
              "1  7184773187  ...  -92.4638\n",
              "2  7193375964  ...  -73.1336\n",
              "3  7195108810  ... -106.6650\n",
              "4  7184712241  ...  -92.9648\n",
              "\n",
              "[5 rows x 25 columns]"
            ]
          },
          "metadata": {
            "tags": []
          },
          "execution_count": 3
        }
      ]
    },
    {
      "cell_type": "code",
      "metadata": {
        "id": "Mspl7X-VBSVt",
        "colab": {
          "base_uri": "https://localhost:8080/"
        },
        "outputId": "1b16c9b1-74b6-4078-cba2-e1fe6bf4c7ff"
      },
      "source": [
        "data.columns"
      ],
      "execution_count": 4,
      "outputs": [
        {
          "output_type": "execute_result",
          "data": {
            "text/plain": [
              "Index(['id', 'url', 'region', 'region_url', 'price', 'year', 'manufacturer',\n",
              "       'model', 'condition', 'cylinders', 'fuel', 'odometer', 'title_status',\n",
              "       'transmission', 'vin', 'drive', 'size', 'type', 'paint_color',\n",
              "       'image_url', 'description', 'county', 'state', 'lat', 'long'],\n",
              "      dtype='object')"
            ]
          },
          "metadata": {
            "tags": []
          },
          "execution_count": 4
        }
      ]
    },
    {
      "cell_type": "code",
      "metadata": {
        "id": "pxZPtHxjBJgC"
      },
      "source": [
        "# Drop unnecessary columns\n",
        "data.drop(columns=['id', 'url', 'region_url', 'vin','size', 'type', 'paint_color', 'image_url', 'description', 'county'], inplace=True)"
      ],
      "execution_count": 5,
      "outputs": []
    },
    {
      "cell_type": "code",
      "metadata": {
        "id": "_4RvEtj1_5hE"
      },
      "source": [
        "# Remove duplicated row\n",
        "data.drop_duplicates(inplace=True)"
      ],
      "execution_count": 7,
      "outputs": []
    },
    {
      "cell_type": "code",
      "metadata": {
        "colab": {
          "base_uri": "https://localhost:8080/"
        },
        "id": "z5AKGGcWD_z8",
        "outputId": "304e00d0-a8ec-4ebd-ecad-b524696c2f86"
      },
      "source": [
        "data.isnull().sum()"
      ],
      "execution_count": 8,
      "outputs": [
        {
          "output_type": "execute_result",
          "data": {
            "text/plain": [
              "region               0\n",
              "price                0\n",
              "year             49327\n",
              "manufacturer     62655\n",
              "model            52324\n",
              "condition       176518\n",
              "cylinders       159323\n",
              "fuel             50674\n",
              "odometer         98824\n",
              "title_status     50249\n",
              "transmission     49896\n",
              "drive           133041\n",
              "state                0\n",
              "lat              53328\n",
              "long             53328\n",
              "dtype: int64"
            ]
          },
          "metadata": {
            "tags": []
          },
          "execution_count": 8
        }
      ]
    },
    {
      "cell_type": "code",
      "metadata": {
        "id": "rajozPacBRZD",
        "colab": {
          "base_uri": "https://localhost:8080/",
          "height": 204
        },
        "outputId": "763a2e77-fd3d-45a5-fda3-3adc60016e8c"
      },
      "source": [
        "data.head()"
      ],
      "execution_count": 7,
      "outputs": [
        {
          "output_type": "execute_result",
          "data": {
            "text/html": [
              "<div>\n",
              "<style scoped>\n",
              "    .dataframe tbody tr th:only-of-type {\n",
              "        vertical-align: middle;\n",
              "    }\n",
              "\n",
              "    .dataframe tbody tr th {\n",
              "        vertical-align: top;\n",
              "    }\n",
              "\n",
              "    .dataframe thead th {\n",
              "        text-align: right;\n",
              "    }\n",
              "</style>\n",
              "<table border=\"1\" class=\"dataframe\">\n",
              "  <thead>\n",
              "    <tr style=\"text-align: right;\">\n",
              "      <th></th>\n",
              "      <th>region</th>\n",
              "      <th>price</th>\n",
              "      <th>year</th>\n",
              "      <th>manufacturer</th>\n",
              "      <th>model</th>\n",
              "      <th>condition</th>\n",
              "      <th>cylinders</th>\n",
              "      <th>fuel</th>\n",
              "      <th>odometer</th>\n",
              "      <th>title_status</th>\n",
              "      <th>transmission</th>\n",
              "      <th>drive</th>\n",
              "      <th>state</th>\n",
              "      <th>lat</th>\n",
              "      <th>long</th>\n",
              "    </tr>\n",
              "  </thead>\n",
              "  <tbody>\n",
              "    <tr>\n",
              "      <th>0</th>\n",
              "      <td>duluth / superior</td>\n",
              "      <td>6995</td>\n",
              "      <td>2000.0</td>\n",
              "      <td>gmc</td>\n",
              "      <td>new sierra 1500</td>\n",
              "      <td>excellent</td>\n",
              "      <td>8 cylinders</td>\n",
              "      <td>gas</td>\n",
              "      <td>167783.0</td>\n",
              "      <td>clean</td>\n",
              "      <td>automatic</td>\n",
              "      <td>4wd</td>\n",
              "      <td>mn</td>\n",
              "      <td>46.8433</td>\n",
              "      <td>-92.2550</td>\n",
              "    </tr>\n",
              "    <tr>\n",
              "      <th>1</th>\n",
              "      <td>duluth / superior</td>\n",
              "      <td>8750</td>\n",
              "      <td>2013.0</td>\n",
              "      <td>hyundai</td>\n",
              "      <td>sonata</td>\n",
              "      <td>excellent</td>\n",
              "      <td>4 cylinders</td>\n",
              "      <td>gas</td>\n",
              "      <td>90821.0</td>\n",
              "      <td>clean</td>\n",
              "      <td>automatic</td>\n",
              "      <td>fwd</td>\n",
              "      <td>mn</td>\n",
              "      <td>46.9074</td>\n",
              "      <td>-92.4638</td>\n",
              "    </tr>\n",
              "    <tr>\n",
              "      <th>2</th>\n",
              "      <td>new haven</td>\n",
              "      <td>10900</td>\n",
              "      <td>2013.0</td>\n",
              "      <td>toyota</td>\n",
              "      <td>prius</td>\n",
              "      <td>good</td>\n",
              "      <td>4 cylinders</td>\n",
              "      <td>hybrid</td>\n",
              "      <td>92800.0</td>\n",
              "      <td>clean</td>\n",
              "      <td>automatic</td>\n",
              "      <td>fwd</td>\n",
              "      <td>ct</td>\n",
              "      <td>41.1770</td>\n",
              "      <td>-73.1336</td>\n",
              "    </tr>\n",
              "    <tr>\n",
              "      <th>3</th>\n",
              "      <td>albuquerque</td>\n",
              "      <td>12500</td>\n",
              "      <td>2003.0</td>\n",
              "      <td>mitsubishi</td>\n",
              "      <td>lancer</td>\n",
              "      <td>good</td>\n",
              "      <td>4 cylinders</td>\n",
              "      <td>gas</td>\n",
              "      <td>NaN</td>\n",
              "      <td>clean</td>\n",
              "      <td>manual</td>\n",
              "      <td>4wd</td>\n",
              "      <td>nm</td>\n",
              "      <td>35.1868</td>\n",
              "      <td>-106.6650</td>\n",
              "    </tr>\n",
              "    <tr>\n",
              "      <th>4</th>\n",
              "      <td>duluth / superior</td>\n",
              "      <td>16995</td>\n",
              "      <td>2007.0</td>\n",
              "      <td>gmc</td>\n",
              "      <td>sierra classic 2500hd</td>\n",
              "      <td>good</td>\n",
              "      <td>8 cylinders</td>\n",
              "      <td>diesel</td>\n",
              "      <td>254217.0</td>\n",
              "      <td>clean</td>\n",
              "      <td>automatic</td>\n",
              "      <td>4wd</td>\n",
              "      <td>mn</td>\n",
              "      <td>45.6836</td>\n",
              "      <td>-92.9648</td>\n",
              "    </tr>\n",
              "  </tbody>\n",
              "</table>\n",
              "</div>"
            ],
            "text/plain": [
              "              region  price    year manufacturer  ... drive state      lat      long\n",
              "0  duluth / superior   6995  2000.0          gmc  ...   4wd    mn  46.8433  -92.2550\n",
              "1  duluth / superior   8750  2013.0      hyundai  ...   fwd    mn  46.9074  -92.4638\n",
              "2          new haven  10900  2013.0       toyota  ...   fwd    ct  41.1770  -73.1336\n",
              "3        albuquerque  12500  2003.0   mitsubishi  ...   4wd    nm  35.1868 -106.6650\n",
              "4  duluth / superior  16995  2007.0          gmc  ...   4wd    mn  45.6836  -92.9648\n",
              "\n",
              "[5 rows x 15 columns]"
            ]
          },
          "metadata": {
            "tags": []
          },
          "execution_count": 7
        }
      ]
    },
    {
      "cell_type": "code",
      "metadata": {
        "colab": {
          "base_uri": "https://localhost:8080/",
          "height": 419
        },
        "id": "3Pj4jSMCAb7c",
        "outputId": "a0b85b8b-291d-46a7-a2dd-deaece3bbe78"
      },
      "source": [
        "data"
      ],
      "execution_count": 9,
      "outputs": [
        {
          "output_type": "execute_result",
          "data": {
            "text/html": [
              "<div>\n",
              "<style scoped>\n",
              "    .dataframe tbody tr th:only-of-type {\n",
              "        vertical-align: middle;\n",
              "    }\n",
              "\n",
              "    .dataframe tbody tr th {\n",
              "        vertical-align: top;\n",
              "    }\n",
              "\n",
              "    .dataframe thead th {\n",
              "        text-align: right;\n",
              "    }\n",
              "</style>\n",
              "<table border=\"1\" class=\"dataframe\">\n",
              "  <thead>\n",
              "    <tr style=\"text-align: right;\">\n",
              "      <th></th>\n",
              "      <th>region</th>\n",
              "      <th>price</th>\n",
              "      <th>year</th>\n",
              "      <th>manufacturer</th>\n",
              "      <th>model</th>\n",
              "      <th>condition</th>\n",
              "      <th>cylinders</th>\n",
              "      <th>fuel</th>\n",
              "      <th>odometer</th>\n",
              "      <th>title_status</th>\n",
              "      <th>transmission</th>\n",
              "      <th>drive</th>\n",
              "      <th>state</th>\n",
              "      <th>lat</th>\n",
              "      <th>long</th>\n",
              "    </tr>\n",
              "  </thead>\n",
              "  <tbody>\n",
              "    <tr>\n",
              "      <th>0</th>\n",
              "      <td>duluth / superior</td>\n",
              "      <td>6995</td>\n",
              "      <td>2000.0</td>\n",
              "      <td>gmc</td>\n",
              "      <td>new sierra 1500</td>\n",
              "      <td>excellent</td>\n",
              "      <td>8 cylinders</td>\n",
              "      <td>gas</td>\n",
              "      <td>167783.0</td>\n",
              "      <td>clean</td>\n",
              "      <td>automatic</td>\n",
              "      <td>4wd</td>\n",
              "      <td>mn</td>\n",
              "      <td>46.8433</td>\n",
              "      <td>-92.2550</td>\n",
              "    </tr>\n",
              "    <tr>\n",
              "      <th>1</th>\n",
              "      <td>duluth / superior</td>\n",
              "      <td>8750</td>\n",
              "      <td>2013.0</td>\n",
              "      <td>hyundai</td>\n",
              "      <td>sonata</td>\n",
              "      <td>excellent</td>\n",
              "      <td>4 cylinders</td>\n",
              "      <td>gas</td>\n",
              "      <td>90821.0</td>\n",
              "      <td>clean</td>\n",
              "      <td>automatic</td>\n",
              "      <td>fwd</td>\n",
              "      <td>mn</td>\n",
              "      <td>46.9074</td>\n",
              "      <td>-92.4638</td>\n",
              "    </tr>\n",
              "    <tr>\n",
              "      <th>2</th>\n",
              "      <td>new haven</td>\n",
              "      <td>10900</td>\n",
              "      <td>2013.0</td>\n",
              "      <td>toyota</td>\n",
              "      <td>prius</td>\n",
              "      <td>good</td>\n",
              "      <td>4 cylinders</td>\n",
              "      <td>hybrid</td>\n",
              "      <td>92800.0</td>\n",
              "      <td>clean</td>\n",
              "      <td>automatic</td>\n",
              "      <td>fwd</td>\n",
              "      <td>ct</td>\n",
              "      <td>41.1770</td>\n",
              "      <td>-73.1336</td>\n",
              "    </tr>\n",
              "    <tr>\n",
              "      <th>3</th>\n",
              "      <td>albuquerque</td>\n",
              "      <td>12500</td>\n",
              "      <td>2003.0</td>\n",
              "      <td>mitsubishi</td>\n",
              "      <td>lancer</td>\n",
              "      <td>good</td>\n",
              "      <td>4 cylinders</td>\n",
              "      <td>gas</td>\n",
              "      <td>NaN</td>\n",
              "      <td>clean</td>\n",
              "      <td>manual</td>\n",
              "      <td>4wd</td>\n",
              "      <td>nm</td>\n",
              "      <td>35.1868</td>\n",
              "      <td>-106.6650</td>\n",
              "    </tr>\n",
              "    <tr>\n",
              "      <th>4</th>\n",
              "      <td>duluth / superior</td>\n",
              "      <td>16995</td>\n",
              "      <td>2007.0</td>\n",
              "      <td>gmc</td>\n",
              "      <td>sierra classic 2500hd</td>\n",
              "      <td>good</td>\n",
              "      <td>8 cylinders</td>\n",
              "      <td>diesel</td>\n",
              "      <td>254217.0</td>\n",
              "      <td>clean</td>\n",
              "      <td>automatic</td>\n",
              "      <td>4wd</td>\n",
              "      <td>mn</td>\n",
              "      <td>45.6836</td>\n",
              "      <td>-92.9648</td>\n",
              "    </tr>\n",
              "    <tr>\n",
              "      <th>...</th>\n",
              "      <td>...</td>\n",
              "      <td>...</td>\n",
              "      <td>...</td>\n",
              "      <td>...</td>\n",
              "      <td>...</td>\n",
              "      <td>...</td>\n",
              "      <td>...</td>\n",
              "      <td>...</td>\n",
              "      <td>...</td>\n",
              "      <td>...</td>\n",
              "      <td>...</td>\n",
              "      <td>...</td>\n",
              "      <td>...</td>\n",
              "      <td>...</td>\n",
              "      <td>...</td>\n",
              "    </tr>\n",
              "    <tr>\n",
              "      <th>423851</th>\n",
              "      <td>albuquerque</td>\n",
              "      <td>4800</td>\n",
              "      <td>2002.0</td>\n",
              "      <td>ford</td>\n",
              "      <td>mustang gt coupe</td>\n",
              "      <td>good</td>\n",
              "      <td>6 cylinders</td>\n",
              "      <td>gas</td>\n",
              "      <td>58000.0</td>\n",
              "      <td>clean</td>\n",
              "      <td>automatic</td>\n",
              "      <td>rwd</td>\n",
              "      <td>nm</td>\n",
              "      <td>34.8543</td>\n",
              "      <td>-106.6960</td>\n",
              "    </tr>\n",
              "    <tr>\n",
              "      <th>423852</th>\n",
              "      <td>duluth / superior</td>\n",
              "      <td>1600</td>\n",
              "      <td>2006.0</td>\n",
              "      <td>hyundai</td>\n",
              "      <td>sonata</td>\n",
              "      <td>fair</td>\n",
              "      <td>6 cylinders</td>\n",
              "      <td>gas</td>\n",
              "      <td>159980.0</td>\n",
              "      <td>clean</td>\n",
              "      <td>automatic</td>\n",
              "      <td>fwd</td>\n",
              "      <td>mn</td>\n",
              "      <td>46.8348</td>\n",
              "      <td>-92.0742</td>\n",
              "    </tr>\n",
              "    <tr>\n",
              "      <th>423853</th>\n",
              "      <td>duluth / superior</td>\n",
              "      <td>9000</td>\n",
              "      <td>2003.0</td>\n",
              "      <td>toyota</td>\n",
              "      <td>sequoia limited</td>\n",
              "      <td>excellent</td>\n",
              "      <td>8 cylinders</td>\n",
              "      <td>gas</td>\n",
              "      <td>160000.0</td>\n",
              "      <td>clean</td>\n",
              "      <td>automatic</td>\n",
              "      <td>4wd</td>\n",
              "      <td>mn</td>\n",
              "      <td>46.9369</td>\n",
              "      <td>-91.9325</td>\n",
              "    </tr>\n",
              "    <tr>\n",
              "      <th>423854</th>\n",
              "      <td>duluth / superior</td>\n",
              "      <td>700</td>\n",
              "      <td>1994.0</td>\n",
              "      <td>ford</td>\n",
              "      <td>f-150</td>\n",
              "      <td>fair</td>\n",
              "      <td>6 cylinders</td>\n",
              "      <td>gas</td>\n",
              "      <td>212000.0</td>\n",
              "      <td>clean</td>\n",
              "      <td>manual</td>\n",
              "      <td>rwd</td>\n",
              "      <td>mn</td>\n",
              "      <td>46.7715</td>\n",
              "      <td>-92.1279</td>\n",
              "    </tr>\n",
              "    <tr>\n",
              "      <th>423855</th>\n",
              "      <td>duluth / superior</td>\n",
              "      <td>3800</td>\n",
              "      <td>1999.0</td>\n",
              "      <td>lincoln</td>\n",
              "      <td>town car</td>\n",
              "      <td>excellent</td>\n",
              "      <td>8 cylinders</td>\n",
              "      <td>gas</td>\n",
              "      <td>160000.0</td>\n",
              "      <td>clean</td>\n",
              "      <td>automatic</td>\n",
              "      <td>rwd</td>\n",
              "      <td>mn</td>\n",
              "      <td>46.8433</td>\n",
              "      <td>-92.2550</td>\n",
              "    </tr>\n",
              "  </tbody>\n",
              "</table>\n",
              "<p>335484 rows × 15 columns</p>\n",
              "</div>"
            ],
            "text/plain": [
              "                   region  price    year  ... state      lat      long\n",
              "0       duluth / superior   6995  2000.0  ...    mn  46.8433  -92.2550\n",
              "1       duluth / superior   8750  2013.0  ...    mn  46.9074  -92.4638\n",
              "2               new haven  10900  2013.0  ...    ct  41.1770  -73.1336\n",
              "3             albuquerque  12500  2003.0  ...    nm  35.1868 -106.6650\n",
              "4       duluth / superior  16995  2007.0  ...    mn  45.6836  -92.9648\n",
              "...                   ...    ...     ...  ...   ...      ...       ...\n",
              "423851        albuquerque   4800  2002.0  ...    nm  34.8543 -106.6960\n",
              "423852  duluth / superior   1600  2006.0  ...    mn  46.8348  -92.0742\n",
              "423853  duluth / superior   9000  2003.0  ...    mn  46.9369  -91.9325\n",
              "423854  duluth / superior    700  1994.0  ...    mn  46.7715  -92.1279\n",
              "423855  duluth / superior   3800  1999.0  ...    mn  46.8433  -92.2550\n",
              "\n",
              "[335484 rows x 15 columns]"
            ]
          },
          "metadata": {
            "tags": []
          },
          "execution_count": 9
        }
      ]
    },
    {
      "cell_type": "markdown",
      "metadata": {
        "id": "pQo-hIulZ-7h"
      },
      "source": [
        "### Preprocessing price"
      ]
    },
    {
      "cell_type": "code",
      "metadata": {
        "id": "635a2xs02bHl",
        "colab": {
          "base_uri": "https://localhost:8080/"
        },
        "outputId": "49d9d5ef-0e15-4873-c609-4da099d56cf6"
      },
      "source": [
        "# filter abnormal price data\n",
        "# We can think the car whose price under $1000 are scarp\n",
        "# and over $100000 are overprice\n",
        "data['price'].describe()"
      ],
      "execution_count": 10,
      "outputs": [
        {
          "output_type": "execute_result",
          "data": {
            "text/plain": [
              "count    3.354840e+05\n",
              "mean     6.986883e+04\n",
              "std      1.126917e+07\n",
              "min      0.000000e+00\n",
              "25%      4.850000e+03\n",
              "50%      1.052300e+04\n",
              "75%      1.988800e+04\n",
              "max      3.808256e+09\n",
              "Name: price, dtype: float64"
            ]
          },
          "metadata": {
            "tags": []
          },
          "execution_count": 10
        }
      ]
    },
    {
      "cell_type": "code",
      "metadata": {
        "id": "AL_Vrkxu21f8",
        "colab": {
          "base_uri": "https://localhost:8080/"
        },
        "outputId": "184c7d73-6a3a-4da6-95b1-85d9948eca39"
      },
      "source": [
        "data['price'] = data['price'].loc[data['price'] > 1000]\n",
        "data['price'] = data['price'].loc[data['price'] < 1e5]\n",
        "data['price'].describe()"
      ],
      "execution_count": 11,
      "outputs": [
        {
          "output_type": "execute_result",
          "data": {
            "text/plain": [
              "count    300578.000000\n",
              "mean      15735.874109\n",
              "std       12877.757625\n",
              "min        1002.000000\n",
              "25%        6450.000000\n",
              "50%       12000.000000\n",
              "75%       20990.000000\n",
              "max       99999.000000\n",
              "Name: price, dtype: float64"
            ]
          },
          "metadata": {
            "tags": []
          },
          "execution_count": 11
        }
      ]
    },
    {
      "cell_type": "code",
      "metadata": {
        "id": "Sj6fTuPM-O2v"
      },
      "source": [
        "average_price_bymanufacturer = data.groupby('manufacturer')['price'].mean()"
      ],
      "execution_count": 12,
      "outputs": []
    },
    {
      "cell_type": "code",
      "metadata": {
        "id": "X2McOy9nZMVu"
      },
      "source": [
        "average_price_bymanufacturer.sort_values(ascending=False, inplace=True)"
      ],
      "execution_count": 18,
      "outputs": []
    },
    {
      "cell_type": "code",
      "metadata": {
        "id": "BjYwFVlyW9S_",
        "colab": {
          "base_uri": "https://localhost:8080/",
          "height": 35
        },
        "outputId": "6a5473ed-e451-4b08-c3ba-6f04a6b86174"
      },
      "source": [
        "# Visualize data after all preprocessing\n",
        "'''plt.figure(figsize=(15,10))\n",
        "ax = average_price_bymanufacturer.plot.bar()\n",
        "plt.title('Average Price by Manufacturer')\n",
        "plt.show()'''"
      ],
      "execution_count": 19,
      "outputs": [
        {
          "output_type": "execute_result",
          "data": {
            "application/vnd.google.colaboratory.intrinsic+json": {
              "type": "string"
            },
            "text/plain": [
              "\"plt.figure(figsize=(15,10))\\nax = average_price_bymanufacturer.plot.bar()\\nplt.title('Average Price by Manufacturer')\\nplt.show()\""
            ]
          },
          "metadata": {
            "tags": []
          },
          "execution_count": 19
        }
      ]
    },
    {
      "cell_type": "code",
      "metadata": {
        "id": "B-Ib1QZExRsU"
      },
      "source": [
        "average_price_byyear = data.groupby('year')['price'].mean()"
      ],
      "execution_count": 20,
      "outputs": []
    },
    {
      "cell_type": "code",
      "metadata": {
        "id": "G1tE6LA5xbD9",
        "colab": {
          "base_uri": "https://localhost:8080/",
          "height": 35
        },
        "outputId": "aed3c14d-c4eb-43c4-8ca4-5ba4af365a07"
      },
      "source": [
        "'''plt.figure(figsize=(15,10))\n",
        "ax =average_price_byyear.plot.bar()\n",
        "plt.title('Average Price by Year')\n",
        "plt.show()'''"
      ],
      "execution_count": 21,
      "outputs": [
        {
          "output_type": "execute_result",
          "data": {
            "application/vnd.google.colaboratory.intrinsic+json": {
              "type": "string"
            },
            "text/plain": [
              "\"plt.figure(figsize=(15,10))\\nax =average_price_byyear.plot.bar()\\nplt.title('Average Price by Year')\\nplt.show()\""
            ]
          },
          "metadata": {
            "tags": []
          },
          "execution_count": 21
        }
      ]
    },
    {
      "cell_type": "markdown",
      "metadata": {
        "id": "cb2EhilUaDYg"
      },
      "source": [
        "### Preprocessing year"
      ]
    },
    {
      "cell_type": "code",
      "metadata": {
        "id": "PY7BPSt-aGY5",
        "colab": {
          "base_uri": "https://localhost:8080/"
        },
        "outputId": "5f955a01-41f2-4229-e2b1-ca4ddf079cf9"
      },
      "source": [
        "data['year'].isnull().sum()"
      ],
      "execution_count": 22,
      "outputs": [
        {
          "output_type": "execute_result",
          "data": {
            "text/plain": [
              "95114"
            ]
          },
          "metadata": {
            "tags": []
          },
          "execution_count": 22
        }
      ]
    },
    {
      "cell_type": "code",
      "metadata": {
        "id": "U2n-QCr-auy7",
        "colab": {
          "base_uri": "https://localhost:8080/"
        },
        "outputId": "30a69121-686e-4ba2-e39d-19bc1951852a"
      },
      "source": [
        "data['year'].describe()"
      ],
      "execution_count": 23,
      "outputs": [
        {
          "output_type": "execute_result",
          "data": {
            "text/plain": [
              "count    328743.000000\n",
              "mean       2009.827358\n",
              "std          10.135809\n",
              "min        1900.000000\n",
              "25%        2007.000000\n",
              "50%        2012.000000\n",
              "75%        2016.000000\n",
              "max        2021.000000\n",
              "Name: year, dtype: float64"
            ]
          },
          "metadata": {
            "tags": []
          },
          "execution_count": 23
        }
      ]
    },
    {
      "cell_type": "code",
      "metadata": {
        "id": "eHCdJ37racjH",
        "colab": {
          "base_uri": "https://localhost:8080/"
        },
        "outputId": "1460ee46-3115-4794-8070-9d754006a53d"
      },
      "source": [
        "# discard value in ['year'] smaller than 1980 and bigger than 2021\n",
        "data['year'] = data['year'].loc[data['year'] > 1980]\n",
        "data['year'] = data['year'].loc[data['year'] < 2021]\n",
        "data['year'].describe()"
      ],
      "execution_count": 24,
      "outputs": [
        {
          "output_type": "execute_result",
          "data": {
            "text/plain": [
              "count    319968.000000\n",
              "mean       2011.062437\n",
              "std           6.434974\n",
              "min        1981.000000\n",
              "25%        2007.000000\n",
              "50%        2012.000000\n",
              "75%        2016.000000\n",
              "max        2020.000000\n",
              "Name: year, dtype: float64"
            ]
          },
          "metadata": {
            "tags": []
          },
          "execution_count": 24
        }
      ]
    },
    {
      "cell_type": "code",
      "metadata": {
        "id": "tpIOpwWFapWe",
        "colab": {
          "base_uri": "https://localhost:8080/"
        },
        "outputId": "4405919b-5f2d-477d-8aca-b6ea9a2afeb1"
      },
      "source": [
        "data['year'].value_counts()"
      ],
      "execution_count": 25,
      "outputs": [
        {
          "output_type": "execute_result",
          "data": {
            "text/plain": [
              "2017.0    30828\n",
              "2015.0    21901\n",
              "2014.0    21773\n",
              "2013.0    21480\n",
              "2016.0    21430\n",
              "2012.0    19130\n",
              "2011.0    18412\n",
              "2018.0    17839\n",
              "2019.0    16995\n",
              "2008.0    16070\n",
              "2007.0    14624\n",
              "2010.0    14350\n",
              "2006.0    12331\n",
              "2009.0    11303\n",
              "2005.0    10284\n",
              "2004.0     9176\n",
              "2003.0     6835\n",
              "2002.0     5595\n",
              "2020.0     5537\n",
              "2001.0     4287\n",
              "2000.0     3703\n",
              "1999.0     2885\n",
              "1998.0     1964\n",
              "1997.0     1765\n",
              "1995.0     1216\n",
              "1996.0     1198\n",
              "1994.0      977\n",
              "1993.0      704\n",
              "1992.0      642\n",
              "1991.0      580\n",
              "1990.0      563\n",
              "1989.0      525\n",
              "1987.0      524\n",
              "1988.0      488\n",
              "1986.0      482\n",
              "1985.0      450\n",
              "1984.0      433\n",
              "1983.0      249\n",
              "1982.0      225\n",
              "1981.0      215\n",
              "Name: year, dtype: int64"
            ]
          },
          "metadata": {
            "tags": []
          },
          "execution_count": 25
        }
      ]
    },
    {
      "cell_type": "code",
      "metadata": {
        "id": "FZi9cQ4gatn1"
      },
      "source": [
        ""
      ],
      "execution_count": 25,
      "outputs": []
    },
    {
      "cell_type": "code",
      "metadata": {
        "id": "wv7OIthyxES2"
      },
      "source": [
        ""
      ],
      "execution_count": null,
      "outputs": []
    },
    {
      "cell_type": "markdown",
      "metadata": {
        "id": "baGuZI3vy0Li"
      },
      "source": [
        "### Preprocessing region and state"
      ]
    },
    {
      "cell_type": "code",
      "metadata": {
        "id": "bC8cAUx4yzmc",
        "colab": {
          "base_uri": "https://localhost:8080/"
        },
        "outputId": "3de55738-a4af-459e-e210-8e51afc6efde"
      },
      "source": [
        "data['region'].isnull().sum()"
      ],
      "execution_count": 15,
      "outputs": [
        {
          "output_type": "execute_result",
          "data": {
            "text/plain": [
              "0"
            ]
          },
          "metadata": {
            "tags": []
          },
          "execution_count": 15
        }
      ]
    },
    {
      "cell_type": "code",
      "metadata": {
        "id": "lLomaolvzWIw",
        "colab": {
          "base_uri": "https://localhost:8080/"
        },
        "outputId": "6d06beca-32ef-482f-81af-e717894a41bf"
      },
      "source": [
        "data['state'].isnull().sum()"
      ],
      "execution_count": 16,
      "outputs": [
        {
          "output_type": "execute_result",
          "data": {
            "text/plain": [
              "0"
            ]
          },
          "metadata": {
            "tags": []
          },
          "execution_count": 16
        }
      ]
    },
    {
      "cell_type": "code",
      "metadata": {
        "id": "AHYuWAvoy71l",
        "colab": {
          "base_uri": "https://localhost:8080/"
        },
        "outputId": "38d180c1-4142-473d-dd70-775efb684837"
      },
      "source": [
        "data['region'].value_counts()"
      ],
      "execution_count": 17,
      "outputs": [
        {
          "output_type": "execute_result",
          "data": {
            "text/plain": [
              "rochester               2705\n",
              "springfield             2689\n",
              "des moines              2644\n",
              "jacksonville            2593\n",
              "greenville / upstate    2590\n",
              "                        ... \n",
              "meridian                  20\n",
              "kansas city               15\n",
              "west virginia (old)       14\n",
              "st louis                   5\n",
              "fort smith, AR             1\n",
              "Name: region, Length: 404, dtype: int64"
            ]
          },
          "metadata": {
            "tags": []
          },
          "execution_count": 17
        }
      ]
    },
    {
      "cell_type": "code",
      "metadata": {
        "id": "NSxlorHOzfVY",
        "colab": {
          "base_uri": "https://localhost:8080/"
        },
        "outputId": "9cf3e0df-296f-4cf0-baec-6d2faff776d8"
      },
      "source": [
        "data['state'].value_counts()"
      ],
      "execution_count": 18,
      "outputs": [
        {
          "output_type": "execute_result",
          "data": {
            "text/plain": [
              "ca    32259\n",
              "fl    22121\n",
              "tx    17633\n",
              "ny    14796\n",
              "oh    13927\n",
              "mi    13807\n",
              "nc    13061\n",
              "or    12510\n",
              "wi    10856\n",
              "pa    10418\n",
              "wa     9933\n",
              "co     9335\n",
              "tn     8793\n",
              "va     8564\n",
              "nj     8379\n",
              "il     8235\n",
              "ia     7833\n",
              "id     7430\n",
              "mn     6937\n",
              "mt     6046\n",
              "ma     6041\n",
              "sc     5671\n",
              "in     5400\n",
              "ok     5324\n",
              "az     5163\n",
              "ks     4837\n",
              "ga     4658\n",
              "al     4405\n",
              "ct     4188\n",
              "mo     4048\n",
              "ky     3983\n",
              "md     3765\n",
              "nm     3344\n",
              "ar     3210\n",
              "ak     3002\n",
              "la     2544\n",
              "nv     2512\n",
              "me     2314\n",
              "nh     2297\n",
              "dc     2269\n",
              "ri     2083\n",
              "hi     2043\n",
              "vt     1958\n",
              "sd     1402\n",
              "ne     1386\n",
              "ms     1245\n",
              "ut      939\n",
              "de      779\n",
              "wy      704\n",
              "wv      664\n",
              "nd      433\n",
              "Name: state, dtype: int64"
            ]
          },
          "metadata": {
            "tags": []
          },
          "execution_count": 18
        }
      ]
    },
    {
      "cell_type": "code",
      "metadata": {
        "id": "yyvMfboXzj2R",
        "colab": {
          "base_uri": "https://localhost:8080/"
        },
        "outputId": "e9d7e1a3-70d1-41a1-f613-bb31a3d1db83"
      },
      "source": [
        "len(data['state'].unique())"
      ],
      "execution_count": 19,
      "outputs": [
        {
          "output_type": "execute_result",
          "data": {
            "text/plain": [
              "51"
            ]
          },
          "metadata": {
            "tags": []
          },
          "execution_count": 19
        }
      ]
    },
    {
      "cell_type": "code",
      "metadata": {
        "id": "WBK_eKHxzxDf"
      },
      "source": [
        "# Consider combine this two column to create new column location\n",
        "data['location'] = data['region'] + data['state']"
      ],
      "execution_count": 20,
      "outputs": []
    },
    {
      "cell_type": "code",
      "metadata": {
        "colab": {
          "base_uri": "https://localhost:8080/"
        },
        "id": "Rfwj0wj1hFg5",
        "outputId": "78a64110-7487-4866-e78f-3e3e4a8d46e8"
      },
      "source": [
        "data['location'].value_counts()"
      ],
      "execution_count": 22,
      "outputs": [
        {
          "output_type": "execute_result",
          "data": {
            "text/plain": [
              "des moinesia               2644\n",
              "greenville / upstatesc     2590\n",
              "colorado springsco         2575\n",
              "central NJnj               2573\n",
              "st louis, MOil             2568\n",
              "                           ... \n",
              "south bend / michianami       1\n",
              "huntington-ashlandwv          1\n",
              "fort smith, ARok              1\n",
              "quad cities, IA/ILia          1\n",
              "parkersburg-mariettawv        1\n",
              "Name: location, Length: 431, dtype: int64"
            ]
          },
          "metadata": {
            "tags": []
          },
          "execution_count": 22
        }
      ]
    }
  ]
}